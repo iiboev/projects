{
 "cells": [
  {
   "cell_type": "markdown",
   "metadata": {},
   "source": [
    "# Анализ бизнес-показателей развлекательного приложения Procrastinate Pro+"
   ]
  },
  {
   "cell_type": "markdown",
   "metadata": {},
   "source": [
    "### Описание исследования"
   ]
  },
  {
   "cell_type": "markdown",
   "metadata": {},
   "source": [
    "#### Задача исследования"
   ]
  },
  {
   "cell_type": "markdown",
   "metadata": {},
   "source": [
    "Требуется провести маркетинговый анализ развлекательного приложения Procrastinate Pro+. Несмотря на огромные вложения в рекламу, последние несколько месяцев компания терпит убытки. Наша задача — разобраться в причинах и помочь компании выйти в плюс."
   ]
  },
  {
   "cell_type": "markdown",
   "metadata": {},
   "source": [
    "#### Исходные данные"
   ]
  },
  {
   "cell_type": "markdown",
   "metadata": {},
   "source": [
    "Есть данные о пользователях, привлечённых с 1 мая по 27 октября 2019 года:\n",
    "* лог сервера с данными об их посещениях,\n",
    "* выгрузка их покупок за этот период,\n",
    "* рекламные расходы.\n",
    "\n",
    "Файл visits_info_short.csv хранит лог сервера с информацией о посещениях сайта, orders_info_short.csv — информацию о заказах, а costs_info_short.csv — информацию о расходах на рекламу."
   ]
  },
  {
   "cell_type": "markdown",
   "metadata": {
    "id": "r-BO88CnWVwe"
   },
   "source": [
    "### Загрузим данные и подготовим их к анализу"
   ]
  },
  {
   "cell_type": "markdown",
   "metadata": {},
   "source": [
    "Импортируем нужные библиотеки."
   ]
  },
  {
   "cell_type": "code",
   "execution_count": 1,
   "metadata": {},
   "outputs": [],
   "source": [
    "import pandas as pd\n",
    "import seaborn as sns\n",
    "from matplotlib import pyplot as plt\n",
    "from scipy import stats as st\n",
    "import numpy as np\n",
    "import math\n",
    "from datetime import datetime, timedelta"
   ]
  },
  {
   "cell_type": "markdown",
   "metadata": {},
   "source": [
    "#### Предобработка данных"
   ]
  },
  {
   "cell_type": "markdown",
   "metadata": {},
   "source": [
    "Загрузим данные о визитах, заказах и рекламных расходах из CSV-файлов в переменные."
   ]
  },
  {
   "cell_type": "code",
   "execution_count": 2,
   "metadata": {
    "id": "_vsKinGUWVwk"
   },
   "outputs": [
    {
     "ename": "FileNotFoundError",
     "evalue": "[Errno 2] No such file or directory: '/datasets/visits_info_short.csv'",
     "output_type": "error",
     "traceback": [
      "\u001b[0;31m---------------------------------------------------------------------------\u001b[0m",
      "\u001b[0;31mFileNotFoundError\u001b[0m                         Traceback (most recent call last)",
      "\u001b[0;32m/var/folders/n8/m_j9f0rx563776hmzwfty8xm0000gn/T/ipykernel_54110/3840044786.py\u001b[0m in \u001b[0;36m<module>\u001b[0;34m\u001b[0m\n\u001b[0;32m----> 1\u001b[0;31m \u001b[0mvisits\u001b[0m \u001b[0;34m=\u001b[0m \u001b[0mpd\u001b[0m\u001b[0;34m.\u001b[0m\u001b[0mread_csv\u001b[0m\u001b[0;34m(\u001b[0m\u001b[0;34m'/datasets/visits_info_short.csv'\u001b[0m\u001b[0;34m)\u001b[0m\u001b[0;34m\u001b[0m\u001b[0;34m\u001b[0m\u001b[0m\n\u001b[0m\u001b[1;32m      2\u001b[0m \u001b[0morders\u001b[0m \u001b[0;34m=\u001b[0m \u001b[0mpd\u001b[0m\u001b[0;34m.\u001b[0m\u001b[0mread_csv\u001b[0m\u001b[0;34m(\u001b[0m\u001b[0;34m'/datasets/orders_info_short.csv'\u001b[0m\u001b[0;34m)\u001b[0m\u001b[0;34m\u001b[0m\u001b[0;34m\u001b[0m\u001b[0m\n\u001b[1;32m      3\u001b[0m \u001b[0mcosts\u001b[0m \u001b[0;34m=\u001b[0m \u001b[0mpd\u001b[0m\u001b[0;34m.\u001b[0m\u001b[0mread_csv\u001b[0m\u001b[0;34m(\u001b[0m\u001b[0;34m'/datasets/costs_info_short.csv'\u001b[0m\u001b[0;34m)\u001b[0m\u001b[0;34m\u001b[0m\u001b[0;34m\u001b[0m\u001b[0m\n",
      "\u001b[0;32m~/opt/anaconda3/lib/python3.9/site-packages/pandas/util/_decorators.py\u001b[0m in \u001b[0;36mwrapper\u001b[0;34m(*args, **kwargs)\u001b[0m\n\u001b[1;32m    309\u001b[0m                     \u001b[0mstacklevel\u001b[0m\u001b[0;34m=\u001b[0m\u001b[0mstacklevel\u001b[0m\u001b[0;34m,\u001b[0m\u001b[0;34m\u001b[0m\u001b[0;34m\u001b[0m\u001b[0m\n\u001b[1;32m    310\u001b[0m                 )\n\u001b[0;32m--> 311\u001b[0;31m             \u001b[0;32mreturn\u001b[0m \u001b[0mfunc\u001b[0m\u001b[0;34m(\u001b[0m\u001b[0;34m*\u001b[0m\u001b[0margs\u001b[0m\u001b[0;34m,\u001b[0m \u001b[0;34m**\u001b[0m\u001b[0mkwargs\u001b[0m\u001b[0;34m)\u001b[0m\u001b[0;34m\u001b[0m\u001b[0;34m\u001b[0m\u001b[0m\n\u001b[0m\u001b[1;32m    312\u001b[0m \u001b[0;34m\u001b[0m\u001b[0m\n\u001b[1;32m    313\u001b[0m         \u001b[0;32mreturn\u001b[0m \u001b[0mwrapper\u001b[0m\u001b[0;34m\u001b[0m\u001b[0;34m\u001b[0m\u001b[0m\n",
      "\u001b[0;32m~/opt/anaconda3/lib/python3.9/site-packages/pandas/io/parsers/readers.py\u001b[0m in \u001b[0;36mread_csv\u001b[0;34m(filepath_or_buffer, sep, delimiter, header, names, index_col, usecols, squeeze, prefix, mangle_dupe_cols, dtype, engine, converters, true_values, false_values, skipinitialspace, skiprows, skipfooter, nrows, na_values, keep_default_na, na_filter, verbose, skip_blank_lines, parse_dates, infer_datetime_format, keep_date_col, date_parser, dayfirst, cache_dates, iterator, chunksize, compression, thousands, decimal, lineterminator, quotechar, quoting, doublequote, escapechar, comment, encoding, encoding_errors, dialect, error_bad_lines, warn_bad_lines, on_bad_lines, delim_whitespace, low_memory, memory_map, float_precision, storage_options)\u001b[0m\n\u001b[1;32m    676\u001b[0m     \u001b[0mkwds\u001b[0m\u001b[0;34m.\u001b[0m\u001b[0mupdate\u001b[0m\u001b[0;34m(\u001b[0m\u001b[0mkwds_defaults\u001b[0m\u001b[0;34m)\u001b[0m\u001b[0;34m\u001b[0m\u001b[0;34m\u001b[0m\u001b[0m\n\u001b[1;32m    677\u001b[0m \u001b[0;34m\u001b[0m\u001b[0m\n\u001b[0;32m--> 678\u001b[0;31m     \u001b[0;32mreturn\u001b[0m \u001b[0m_read\u001b[0m\u001b[0;34m(\u001b[0m\u001b[0mfilepath_or_buffer\u001b[0m\u001b[0;34m,\u001b[0m \u001b[0mkwds\u001b[0m\u001b[0;34m)\u001b[0m\u001b[0;34m\u001b[0m\u001b[0;34m\u001b[0m\u001b[0m\n\u001b[0m\u001b[1;32m    679\u001b[0m \u001b[0;34m\u001b[0m\u001b[0m\n\u001b[1;32m    680\u001b[0m \u001b[0;34m\u001b[0m\u001b[0m\n",
      "\u001b[0;32m~/opt/anaconda3/lib/python3.9/site-packages/pandas/io/parsers/readers.py\u001b[0m in \u001b[0;36m_read\u001b[0;34m(filepath_or_buffer, kwds)\u001b[0m\n\u001b[1;32m    573\u001b[0m \u001b[0;34m\u001b[0m\u001b[0m\n\u001b[1;32m    574\u001b[0m     \u001b[0;31m# Create the parser.\u001b[0m\u001b[0;34m\u001b[0m\u001b[0;34m\u001b[0m\u001b[0m\n\u001b[0;32m--> 575\u001b[0;31m     \u001b[0mparser\u001b[0m \u001b[0;34m=\u001b[0m \u001b[0mTextFileReader\u001b[0m\u001b[0;34m(\u001b[0m\u001b[0mfilepath_or_buffer\u001b[0m\u001b[0;34m,\u001b[0m \u001b[0;34m**\u001b[0m\u001b[0mkwds\u001b[0m\u001b[0;34m)\u001b[0m\u001b[0;34m\u001b[0m\u001b[0;34m\u001b[0m\u001b[0m\n\u001b[0m\u001b[1;32m    576\u001b[0m \u001b[0;34m\u001b[0m\u001b[0m\n\u001b[1;32m    577\u001b[0m     \u001b[0;32mif\u001b[0m \u001b[0mchunksize\u001b[0m \u001b[0;32mor\u001b[0m \u001b[0miterator\u001b[0m\u001b[0;34m:\u001b[0m\u001b[0;34m\u001b[0m\u001b[0;34m\u001b[0m\u001b[0m\n",
      "\u001b[0;32m~/opt/anaconda3/lib/python3.9/site-packages/pandas/io/parsers/readers.py\u001b[0m in \u001b[0;36m__init__\u001b[0;34m(self, f, engine, **kwds)\u001b[0m\n\u001b[1;32m    930\u001b[0m \u001b[0;34m\u001b[0m\u001b[0m\n\u001b[1;32m    931\u001b[0m         \u001b[0mself\u001b[0m\u001b[0;34m.\u001b[0m\u001b[0mhandles\u001b[0m\u001b[0;34m:\u001b[0m \u001b[0mIOHandles\u001b[0m \u001b[0;34m|\u001b[0m \u001b[0;32mNone\u001b[0m \u001b[0;34m=\u001b[0m \u001b[0;32mNone\u001b[0m\u001b[0;34m\u001b[0m\u001b[0;34m\u001b[0m\u001b[0m\n\u001b[0;32m--> 932\u001b[0;31m         \u001b[0mself\u001b[0m\u001b[0;34m.\u001b[0m\u001b[0m_engine\u001b[0m \u001b[0;34m=\u001b[0m \u001b[0mself\u001b[0m\u001b[0;34m.\u001b[0m\u001b[0m_make_engine\u001b[0m\u001b[0;34m(\u001b[0m\u001b[0mf\u001b[0m\u001b[0;34m,\u001b[0m \u001b[0mself\u001b[0m\u001b[0;34m.\u001b[0m\u001b[0mengine\u001b[0m\u001b[0;34m)\u001b[0m\u001b[0;34m\u001b[0m\u001b[0;34m\u001b[0m\u001b[0m\n\u001b[0m\u001b[1;32m    933\u001b[0m \u001b[0;34m\u001b[0m\u001b[0m\n\u001b[1;32m    934\u001b[0m     \u001b[0;32mdef\u001b[0m \u001b[0mclose\u001b[0m\u001b[0;34m(\u001b[0m\u001b[0mself\u001b[0m\u001b[0;34m)\u001b[0m\u001b[0;34m:\u001b[0m\u001b[0;34m\u001b[0m\u001b[0;34m\u001b[0m\u001b[0m\n",
      "\u001b[0;32m~/opt/anaconda3/lib/python3.9/site-packages/pandas/io/parsers/readers.py\u001b[0m in \u001b[0;36m_make_engine\u001b[0;34m(self, f, engine)\u001b[0m\n\u001b[1;32m   1214\u001b[0m             \u001b[0;31m# \"Union[str, PathLike[str], ReadCsvBuffer[bytes], ReadCsvBuffer[str]]\"\u001b[0m\u001b[0;34m\u001b[0m\u001b[0;34m\u001b[0m\u001b[0m\n\u001b[1;32m   1215\u001b[0m             \u001b[0;31m# , \"str\", \"bool\", \"Any\", \"Any\", \"Any\", \"Any\", \"Any\"\u001b[0m\u001b[0;34m\u001b[0m\u001b[0;34m\u001b[0m\u001b[0m\n\u001b[0;32m-> 1216\u001b[0;31m             self.handles = get_handle(  # type: ignore[call-overload]\n\u001b[0m\u001b[1;32m   1217\u001b[0m                 \u001b[0mf\u001b[0m\u001b[0;34m,\u001b[0m\u001b[0;34m\u001b[0m\u001b[0;34m\u001b[0m\u001b[0m\n\u001b[1;32m   1218\u001b[0m                 \u001b[0mmode\u001b[0m\u001b[0;34m,\u001b[0m\u001b[0;34m\u001b[0m\u001b[0;34m\u001b[0m\u001b[0m\n",
      "\u001b[0;32m~/opt/anaconda3/lib/python3.9/site-packages/pandas/io/common.py\u001b[0m in \u001b[0;36mget_handle\u001b[0;34m(path_or_buf, mode, encoding, compression, memory_map, is_text, errors, storage_options)\u001b[0m\n\u001b[1;32m    784\u001b[0m         \u001b[0;32mif\u001b[0m \u001b[0mioargs\u001b[0m\u001b[0;34m.\u001b[0m\u001b[0mencoding\u001b[0m \u001b[0;32mand\u001b[0m \u001b[0;34m\"b\"\u001b[0m \u001b[0;32mnot\u001b[0m \u001b[0;32min\u001b[0m \u001b[0mioargs\u001b[0m\u001b[0;34m.\u001b[0m\u001b[0mmode\u001b[0m\u001b[0;34m:\u001b[0m\u001b[0;34m\u001b[0m\u001b[0;34m\u001b[0m\u001b[0m\n\u001b[1;32m    785\u001b[0m             \u001b[0;31m# Encoding\u001b[0m\u001b[0;34m\u001b[0m\u001b[0;34m\u001b[0m\u001b[0m\n\u001b[0;32m--> 786\u001b[0;31m             handle = open(\n\u001b[0m\u001b[1;32m    787\u001b[0m                 \u001b[0mhandle\u001b[0m\u001b[0;34m,\u001b[0m\u001b[0;34m\u001b[0m\u001b[0;34m\u001b[0m\u001b[0m\n\u001b[1;32m    788\u001b[0m                 \u001b[0mioargs\u001b[0m\u001b[0;34m.\u001b[0m\u001b[0mmode\u001b[0m\u001b[0;34m,\u001b[0m\u001b[0;34m\u001b[0m\u001b[0;34m\u001b[0m\u001b[0m\n",
      "\u001b[0;31mFileNotFoundError\u001b[0m: [Errno 2] No such file or directory: '/datasets/visits_info_short.csv'"
     ]
    }
   ],
   "source": [
    "visits = pd.read_csv('/datasets/visits_info_short.csv')\n",
    "orders = pd.read_csv('/datasets/orders_info_short.csv')\n",
    "costs = pd.read_csv('/datasets/costs_info_short.csv')"
   ]
  },
  {
   "cell_type": "code",
   "execution_count": null,
   "metadata": {},
   "outputs": [],
   "source": [
    "print(visits.info())\n",
    "print(visits.isna().sum())\n",
    "print(visits.duplicated().sum())"
   ]
  },
  {
   "cell_type": "code",
   "execution_count": null,
   "metadata": {},
   "outputs": [],
   "source": [
    "print(orders.info())\n",
    "print(orders.isna().sum())\n",
    "print(orders.duplicated().sum())"
   ]
  },
  {
   "cell_type": "code",
   "execution_count": null,
   "metadata": {},
   "outputs": [],
   "source": [
    "print(costs.info())\n",
    "print(costs.isna().sum())\n",
    "print(costs.duplicated().sum())"
   ]
  },
  {
   "cell_type": "code",
   "execution_count": null,
   "metadata": {},
   "outputs": [],
   "source": [
    "visits.columns = ['user_id', 'region', 'device', 'channel', 'session_start', 'session_end']\n",
    "orders.columns = ['user_id', 'event_dt', 'revenue']\n",
    "costs.columns = ['dt', 'channel', 'costs']"
   ]
  },
  {
   "cell_type": "code",
   "execution_count": null,
   "metadata": {},
   "outputs": [],
   "source": [
    "visits['session_start'] = pd.to_datetime(visits['session_start'])\n",
    "visits['session_end'] = pd.to_datetime(visits['session_end'])\n",
    "orders['event_dt'] = pd.to_datetime(orders['event_dt'])\n",
    "costs['dt'] = pd.to_datetime(costs['dt']).dt.date "
   ]
  },
  {
   "cell_type": "markdown",
   "metadata": {},
   "source": [
    "Проверим визуально столбцы типа object на неявные дубли."
   ]
  },
  {
   "cell_type": "code",
   "execution_count": null,
   "metadata": {},
   "outputs": [],
   "source": [
    "print(visits['region'].value_counts())\n",
    "print(visits['device'].value_counts())\n",
    "print(visits['channel'].value_counts())\n",
    "print(costs['channel'].value_counts())"
   ]
  },
  {
   "cell_type": "markdown",
   "metadata": {},
   "source": [
    "И проверим столбцы, отвечающие за стоимость на аномалии."
   ]
  },
  {
   "cell_type": "code",
   "execution_count": null,
   "metadata": {},
   "outputs": [],
   "source": [
    "orders['revenue'].describe()"
   ]
  },
  {
   "cell_type": "code",
   "execution_count": null,
   "metadata": {},
   "outputs": [],
   "source": [
    "costs['costs'].describe()"
   ]
  },
  {
   "cell_type": "markdown",
   "metadata": {},
   "source": [
    "#### Вывод\n",
    "* Пропущенные значения отсутствуют\n",
    "* Тип даты во всех таблицах был типа object, для корректной работы привели к datetime\n",
    "* Явные дубли в таблицах отсутствуют, неявные тоже.\n",
    "* Названия столбцов приведены к стандарту PEP"
   ]
  },
  {
   "cell_type": "markdown",
   "metadata": {
    "id": "AS1eCqCpWVwk"
   },
   "source": [
    "### Зададим функции для расчёта и анализа LTV, ROI, удержания и конверсии.\n",
    "\n",
    "Это функции для вычисления значений метрик:\n",
    "\n",
    "- `get_profiles()` — для создания профилей пользователей,\n",
    "- `get_retention()` — для подсчёта Retention Rate,\n",
    "- `get_conversion()` — для подсчёта конверсии,\n",
    "- `get_ltv()` — для подсчёта LTV.\n",
    "\n",
    "А также функции для построения графиков:\n",
    "\n",
    "- `filter_data()` — для сглаживания данных,\n",
    "- `plot_retention()` — для построения графика Retention Rate,\n",
    "- `plot_conversion()` — для построения графика конверсии,\n",
    "- `plot_ltv_roi` — для визуализации LTV и ROI."
   ]
  },
  {
   "cell_type": "code",
   "execution_count": null,
   "metadata": {
    "id": "igOfMgBpWVwl"
   },
   "outputs": [],
   "source": [
    "# функция для создания пользовательских профилей\n",
    "\n",
    "def get_profiles(sessions, orders, ad_costs):\n",
    "\n",
    "    # находим параметры первых посещений\n",
    "    profiles = (\n",
    "        sessions.sort_values(by=['user_id', 'session_start'])\n",
    "        .groupby('user_id')\n",
    "        .agg(\n",
    "            {\n",
    "                'session_start': 'first',\n",
    "                'channel': 'first',\n",
    "                'device': 'first',\n",
    "                'region': 'first',\n",
    "            }\n",
    "        )\n",
    "        .rename(columns={'session_start': 'first_ts'})\n",
    "        .reset_index()\n",
    "    )\n",
    "\n",
    "    # для когортного анализа определяем дату первого посещения\n",
    "    # и первый день месяца, в который это посещение произошло\n",
    "    profiles['dt'] = profiles['first_ts'].dt.date\n",
    "    profiles['month'] = profiles['first_ts'].astype('datetime64[M]')\n",
    "\n",
    "    # добавляем признак платящих пользователей\n",
    "    profiles['payer'] = profiles['user_id'].isin(orders['user_id'].unique())\n",
    "\n",
    "    # считаем количество уникальных пользователей\n",
    "    # с одинаковыми источником и датой привлечения\n",
    "    new_users = (\n",
    "        profiles.groupby(['dt', 'channel'])\n",
    "        .agg({'user_id': 'nunique'})\n",
    "        .rename(columns={'user_id': 'unique_users'})\n",
    "        .reset_index()\n",
    "    )\n",
    "\n",
    "    # объединяем траты на рекламу и число привлечённых пользователей\n",
    "    ad_costs = ad_costs.merge(new_users, on=['dt', 'channel'], how='left')\n",
    "\n",
    "    # делим рекламные расходы на число привлечённых пользователей\n",
    "    ad_costs['acquisition_cost'] = ad_costs['costs'] / ad_costs['unique_users']\n",
    "\n",
    "    # добавляем стоимость привлечения в профили\n",
    "    profiles = profiles.merge(\n",
    "        ad_costs[['dt', 'channel', 'acquisition_cost']],\n",
    "        on=['dt', 'channel'],\n",
    "        how='left',\n",
    "    )\n",
    "\n",
    "    # стоимость привлечения органических пользователей равна нулю\n",
    "    profiles['acquisition_cost'] = profiles['acquisition_cost'].fillna(0)\n",
    "\n",
    "    return profiles"
   ]
  },
  {
   "cell_type": "code",
   "execution_count": null,
   "metadata": {},
   "outputs": [],
   "source": [
    "# функция для расчёта удержания\n",
    "\n",
    "def get_retention(\n",
    "    profiles,\n",
    "    sessions,\n",
    "    observation_date,\n",
    "    horizon_days,\n",
    "    dimensions=[],\n",
    "    ignore_horizon=False,\n",
    "):\n",
    "\n",
    "    # добавляем столбец payer в передаваемый dimensions список\n",
    "    dimensions = ['payer'] + dimensions\n",
    "\n",
    "    # исключаем пользователей, не «доживших» до горизонта анализа\n",
    "    last_suitable_acquisition_date = observation_date\n",
    "    if not ignore_horizon:\n",
    "        last_suitable_acquisition_date = observation_date - timedelta(\n",
    "            days=horizon_days - 1\n",
    "        )\n",
    "    result_raw = profiles.query('dt <= @last_suitable_acquisition_date')\n",
    "\n",
    "    # собираем «сырые» данные для расчёта удержания\n",
    "    result_raw = result_raw.merge(\n",
    "        sessions[['user_id', 'session_start']], on='user_id', how='left'\n",
    "    )\n",
    "    result_raw['lifetime'] = (\n",
    "        result_raw['session_start'] - result_raw['first_ts']\n",
    "    ).dt.days\n",
    "\n",
    "    # функция для группировки таблицы по желаемым признакам\n",
    "    def group_by_dimensions(df, dims, horizon_days):\n",
    "        result = df.pivot_table(\n",
    "            index=dims, columns='lifetime', values='user_id', aggfunc='nunique'\n",
    "        )\n",
    "        cohort_sizes = (\n",
    "            df.groupby(dims)\n",
    "            .agg({'user_id': 'nunique'})\n",
    "            .rename(columns={'user_id': 'cohort_size'})\n",
    "        )\n",
    "        result = cohort_sizes.merge(result, on=dims, how='left').fillna(0)\n",
    "        result = result.div(result['cohort_size'], axis=0)\n",
    "        result = result[['cohort_size'] + list(range(horizon_days))]\n",
    "        result['cohort_size'] = cohort_sizes\n",
    "        return result\n",
    "\n",
    "    # получаем таблицу удержания\n",
    "    result_grouped = group_by_dimensions(result_raw, dimensions, horizon_days)\n",
    "\n",
    "    # получаем таблицу динамики удержания\n",
    "    result_in_time = group_by_dimensions(\n",
    "        result_raw, dimensions + ['dt'], horizon_days\n",
    "    )\n",
    "\n",
    "    # возвращаем обе таблицы и сырые данные\n",
    "    return result_raw, result_grouped, result_in_time "
   ]
  },
  {
   "cell_type": "code",
   "execution_count": null,
   "metadata": {},
   "outputs": [],
   "source": [
    "# функция для расчёта конверсии\n",
    "\n",
    "def get_conversion(\n",
    "    profiles,\n",
    "    purchases,\n",
    "    observation_date,\n",
    "    horizon_days,\n",
    "    dimensions=[],\n",
    "    ignore_horizon=False,\n",
    "):\n",
    "\n",
    "    # исключаем пользователей, не «доживших» до горизонта анализа\n",
    "    last_suitable_acquisition_date = observation_date\n",
    "    if not ignore_horizon:\n",
    "        last_suitable_acquisition_date = observation_date - timedelta(\n",
    "            days=horizon_days - 1\n",
    "        )\n",
    "    result_raw = profiles.query('dt <= @last_suitable_acquisition_date')\n",
    "\n",
    "    # определяем дату и время первой покупки для каждого пользователя\n",
    "    first_purchases = (\n",
    "        purchases.sort_values(by=['user_id', 'event_dt'])\n",
    "        .groupby('user_id')\n",
    "        .agg({'event_dt': 'first'})\n",
    "        .reset_index()\n",
    "    )\n",
    "\n",
    "    # добавляем данные о покупках в профили\n",
    "    result_raw = result_raw.merge(\n",
    "        first_purchases[['user_id', 'event_dt']], on='user_id', how='left'\n",
    "    )\n",
    "\n",
    "    # рассчитываем лайфтайм для каждой покупки\n",
    "    result_raw['lifetime'] = (\n",
    "        result_raw['event_dt'] - result_raw['first_ts']\n",
    "    ).dt.days\n",
    "\n",
    "    # группируем по cohort, если в dimensions ничего нет\n",
    "    if len(dimensions) == 0:\n",
    "        result_raw['cohort'] = 'All users' \n",
    "        dimensions = dimensions + ['cohort']\n",
    "\n",
    "    # функция для группировки таблицы по желаемым признакам\n",
    "    def group_by_dimensions(df, dims, horizon_days):\n",
    "        result = df.pivot_table(\n",
    "            index=dims, columns='lifetime', values='user_id', aggfunc='nunique'\n",
    "        )\n",
    "        result = result.fillna(0).cumsum(axis = 1)\n",
    "        cohort_sizes = (\n",
    "            df.groupby(dims)\n",
    "            .agg({'user_id': 'nunique'})\n",
    "            .rename(columns={'user_id': 'cohort_size'})\n",
    "        )\n",
    "        result = cohort_sizes.merge(result, on=dims, how='left').fillna(0)\n",
    "        # делим каждую «ячейку» в строке на размер когорты\n",
    "        # и получаем conversion rate\n",
    "        result = result.div(result['cohort_size'], axis=0)\n",
    "        result = result[['cohort_size'] + list(range(horizon_days))]\n",
    "        result['cohort_size'] = cohort_sizes\n",
    "        return result\n",
    "\n",
    "    # получаем таблицу конверсии\n",
    "    result_grouped = group_by_dimensions(result_raw, dimensions, horizon_days)\n",
    "\n",
    "    # для таблицы динамики конверсии убираем 'cohort' из dimensions\n",
    "    if 'cohort' in dimensions: \n",
    "        dimensions = []\n",
    "\n",
    "    # получаем таблицу динамики конверсии\n",
    "    result_in_time = group_by_dimensions(\n",
    "        result_raw, dimensions + ['dt'], horizon_days\n",
    "    )\n",
    "\n",
    "    # возвращаем обе таблицы и сырые данные\n",
    "    return result_raw, result_grouped, result_in_time "
   ]
  },
  {
   "cell_type": "code",
   "execution_count": null,
   "metadata": {},
   "outputs": [],
   "source": [
    "# функция для расчёта LTV и ROI\n",
    "\n",
    "def get_ltv(\n",
    "    profiles,\n",
    "    purchases,\n",
    "    observation_date,\n",
    "    horizon_days,\n",
    "    dimensions=[],\n",
    "    ignore_horizon=False,\n",
    "):\n",
    "\n",
    "    # исключаем пользователей, не «доживших» до горизонта анализа\n",
    "    last_suitable_acquisition_date = observation_date\n",
    "    if not ignore_horizon:\n",
    "        last_suitable_acquisition_date = observation_date - timedelta(\n",
    "            days=horizon_days - 1\n",
    "        )\n",
    "    result_raw = profiles.query('dt <= @last_suitable_acquisition_date')\n",
    "    # добавляем данные о покупках в профили\n",
    "    result_raw = result_raw.merge(\n",
    "        purchases[['user_id', 'event_dt', 'revenue']], on='user_id', how='left'\n",
    "    )\n",
    "    # рассчитываем лайфтайм пользователя для каждой покупки\n",
    "    result_raw['lifetime'] = (\n",
    "        result_raw['event_dt'] - result_raw['first_ts']\n",
    "    ).dt.days\n",
    "    # группируем по cohort, если в dimensions ничего нет\n",
    "    if len(dimensions) == 0:\n",
    "        result_raw['cohort'] = 'All users'\n",
    "        dimensions = dimensions + ['cohort']\n",
    "\n",
    "    # функция группировки по желаемым признакам\n",
    "    def group_by_dimensions(df, dims, horizon_days):\n",
    "        # строим «треугольную» таблицу выручки\n",
    "        result = df.pivot_table(\n",
    "            index=dims, columns='lifetime', values='revenue', aggfunc='sum'\n",
    "        )\n",
    "        # находим сумму выручки с накоплением\n",
    "        result = result.fillna(0).cumsum(axis=1)\n",
    "        # вычисляем размеры когорт\n",
    "        cohort_sizes = (\n",
    "            df.groupby(dims)\n",
    "            .agg({'user_id': 'nunique'})\n",
    "            .rename(columns={'user_id': 'cohort_size'})\n",
    "        )\n",
    "        # объединяем размеры когорт и таблицу выручки\n",
    "        result = cohort_sizes.merge(result, on=dims, how='left').fillna(0)\n",
    "        # считаем LTV: делим каждую «ячейку» в строке на размер когорты\n",
    "        result = result.div(result['cohort_size'], axis=0)\n",
    "        # исключаем все лайфтаймы, превышающие горизонт анализа\n",
    "        result = result[['cohort_size'] + list(range(horizon_days))]\n",
    "        # восстанавливаем размеры когорт\n",
    "        result['cohort_size'] = cohort_sizes\n",
    "\n",
    "        # собираем датафрейм с данными пользователей и значениями CAC, \n",
    "        # добавляя параметры из dimensions\n",
    "        cac = df[['user_id', 'acquisition_cost'] + dims].drop_duplicates()\n",
    "\n",
    "        # считаем средний CAC по параметрам из dimensions\n",
    "        cac = (\n",
    "            cac.groupby(dims)\n",
    "            .agg({'acquisition_cost': 'mean'})\n",
    "            .rename(columns={'acquisition_cost': 'cac'})\n",
    "        )\n",
    "\n",
    "        # считаем ROI: делим LTV на CAC\n",
    "        roi = result.div(cac['cac'], axis=0)\n",
    "\n",
    "        # удаляем строки с бесконечным ROI\n",
    "        roi = roi[~roi['cohort_size'].isin([np.inf])]\n",
    "\n",
    "        # восстанавливаем размеры когорт в таблице ROI\n",
    "        roi['cohort_size'] = cohort_sizes\n",
    "\n",
    "        # добавляем CAC в таблицу ROI\n",
    "        roi['cac'] = cac['cac']\n",
    "\n",
    "        # в финальной таблице оставляем размеры когорт, CAC\n",
    "        # и ROI в лайфтаймы, не превышающие горизонт анализа\n",
    "        roi = roi[['cohort_size', 'cac'] + list(range(horizon_days))]\n",
    "\n",
    "        # возвращаем таблицы LTV и ROI\n",
    "        return result, roi\n",
    "\n",
    "    # получаем таблицы LTV и ROI\n",
    "    result_grouped, roi_grouped = group_by_dimensions(\n",
    "        result_raw, dimensions, horizon_days\n",
    "    )\n",
    "\n",
    "    # для таблиц динамики убираем 'cohort' из dimensions\n",
    "    if 'cohort' in dimensions:\n",
    "        dimensions = []\n",
    "\n",
    "    # получаем таблицы динамики LTV и ROI\n",
    "    result_in_time, roi_in_time = group_by_dimensions(\n",
    "        result_raw, dimensions + ['dt'], horizon_days\n",
    "    )\n",
    "\n",
    "    return (\n",
    "        result_raw,  # сырые данные\n",
    "        result_grouped,  # таблица LTV\n",
    "        result_in_time,  # таблица динамики LTV\n",
    "        roi_grouped,  # таблица ROI\n",
    "        roi_in_time,  # таблица динамики ROI\n",
    "    ) "
   ]
  },
  {
   "cell_type": "code",
   "execution_count": null,
   "metadata": {},
   "outputs": [],
   "source": [
    "# функция для сглаживания фрейма\n",
    "def filter_data(df, window):\n",
    "    # для каждого столбца применяем скользящее среднее\n",
    "    for column in df.columns.values:\n",
    "        df[column] = df[column].rolling(window).mean() \n",
    "    return df "
   ]
  },
  {
   "cell_type": "code",
   "execution_count": null,
   "metadata": {},
   "outputs": [],
   "source": [
    "# функция для визуализации удержания\n",
    "def plot_retention(retention, retention_history, horizon, window=7):\n",
    "\n",
    "    # задаём размер сетки для графиков\n",
    "    plt.figure(figsize=(15, 10))\n",
    "\n",
    "    # исключаем размеры когорт и удержание первого дня\n",
    "    retention = retention.drop(columns=['cohort_size', 0])\n",
    "    # в таблице динамики оставляем только нужный лайфтайм\n",
    "    retention_history = retention_history.drop(columns=['cohort_size'])[\n",
    "        [horizon - 1]\n",
    "    ]\n",
    "\n",
    "    # если в индексах таблицы удержания только payer,\n",
    "    # добавляем второй признак — cohort\n",
    "    if retention.index.nlevels == 1:\n",
    "        retention['cohort'] = 'All users'\n",
    "        retention = retention.reset_index().set_index(['cohort', 'payer'])\n",
    "\n",
    "    # в таблице графиков — два столбца и две строки, четыре ячейки\n",
    "    # в первой строим кривые удержания платящих пользователей\n",
    "    ax1 = plt.subplot(2, 2, 1)\n",
    "    retention.query('payer == True').droplevel('payer').T.plot(\n",
    "        grid=True, ax=ax1\n",
    "    )\n",
    "    plt.legend()\n",
    "    plt.xlabel('Лайфтайм')\n",
    "    plt.title('Удержание платящих пользователей')\n",
    "\n",
    "    # во второй ячейке строим кривые удержания неплатящих\n",
    "    # вертикальная ось — от графика из первой ячейки\n",
    "    ax2 = plt.subplot(2, 2, 2, sharey=ax1)\n",
    "    retention.query('payer == False').droplevel('payer').T.plot(\n",
    "        grid=True, ax=ax2\n",
    "    )\n",
    "    plt.legend()\n",
    "    plt.xlabel('Лайфтайм')\n",
    "    plt.title('Удержание неплатящих пользователей')\n",
    "\n",
    "    # в третьей ячейке — динамика удержания платящих\n",
    "    ax3 = plt.subplot(2, 2, 3)\n",
    "    # получаем названия столбцов для сводной таблицы\n",
    "    columns = [\n",
    "        name\n",
    "        for name in retention_history.index.names\n",
    "        if name not in ['dt', 'payer']\n",
    "    ]\n",
    "    # фильтруем данные и строим график\n",
    "    filtered_data = retention_history.query('payer == True').pivot_table(\n",
    "        index='dt', columns=columns, values=horizon - 1, aggfunc='mean'\n",
    "    )\n",
    "    filter_data(filtered_data, window).plot(grid=True, ax=ax3)\n",
    "    plt.xlabel('Дата привлечения')\n",
    "    plt.title(\n",
    "        'Динамика удержания платящих пользователей на {}-й день'.format(\n",
    "            horizon\n",
    "        )\n",
    "    )\n",
    "\n",
    "    # в чётвертой ячейке — динамика удержания неплатящих\n",
    "    ax4 = plt.subplot(2, 2, 4, sharey=ax3)\n",
    "    # фильтруем данные и строим график\n",
    "    filtered_data = retention_history.query('payer == False').pivot_table(\n",
    "        index='dt', columns=columns, values=horizon - 1, aggfunc='mean'\n",
    "    )\n",
    "    filter_data(filtered_data, window).plot(grid=True, ax=ax4)\n",
    "    plt.xlabel('Дата привлечения')\n",
    "    plt.title(\n",
    "        'Динамика удержания неплатящих пользователей на {}-й день'.format(\n",
    "            horizon\n",
    "        )\n",
    "    )\n",
    "    \n",
    "    plt.tight_layout()\n",
    "    plt.show() "
   ]
  },
  {
   "cell_type": "code",
   "execution_count": null,
   "metadata": {},
   "outputs": [],
   "source": [
    "# функция для визуализации конверсии\n",
    "\n",
    "def plot_conversion(conversion, conversion_history, horizon, window=7):\n",
    "\n",
    "    # задаём размер сетки для графиков\n",
    "    plt.figure(figsize=(15, 5))\n",
    "\n",
    "    # исключаем размеры когорт\n",
    "    conversion = conversion.drop(columns=['cohort_size'])\n",
    "    # в таблице динамики оставляем только нужный лайфтайм\n",
    "    conversion_history = conversion_history.drop(columns=['cohort_size'])[\n",
    "        [horizon - 1]\n",
    "    ]\n",
    "\n",
    "    # первый график — кривые конверсии\n",
    "    ax1 = plt.subplot(1, 2, 1)\n",
    "    conversion.T.plot(grid=True, ax=ax1)\n",
    "    plt.legend()\n",
    "    plt.xlabel('Лайфтайм')\n",
    "    plt.title('Конверсия пользователей')\n",
    "\n",
    "    # второй график — динамика конверсии\n",
    "    ax2 = plt.subplot(1, 2, 2, sharey=ax1)\n",
    "    columns = [\n",
    "        # столбцами сводной таблицы станут все столбцы индекса, кроме даты\n",
    "        name for name in conversion_history.index.names if name not in ['dt']\n",
    "    ]\n",
    "    filtered_data = conversion_history.pivot_table(\n",
    "        index='dt', columns=columns, values=horizon - 1, aggfunc='mean'\n",
    "    )\n",
    "    filter_data(filtered_data, window).plot(grid=True, ax=ax2)\n",
    "    plt.xlabel('Дата привлечения')\n",
    "    plt.title('Динамика конверсии пользователей на {}-й день'.format(horizon))\n",
    "\n",
    "    plt.tight_layout()\n",
    "    plt.show()"
   ]
  },
  {
   "cell_type": "code",
   "execution_count": null,
   "metadata": {},
   "outputs": [],
   "source": [
    "# функция для визуализации LTV и ROI\n",
    "\n",
    "def plot_ltv_roi(ltv, ltv_history, roi, roi_history, horizon, window=7):\n",
    "\n",
    "    # задаём сетку отрисовки графиков\n",
    "    plt.figure(figsize=(20, 10))\n",
    "\n",
    "    # из таблицы ltv исключаем размеры когорт\n",
    "    ltv = ltv.drop(columns=['cohort_size'])\n",
    "    # в таблице динамики ltv оставляем только нужный лайфтайм\n",
    "    ltv_history = ltv_history.drop(columns=['cohort_size'])[[horizon - 1]]\n",
    "\n",
    "    # стоимость привлечения запишем в отдельный фрейм\n",
    "    cac_history = roi_history[['cac']]\n",
    "\n",
    "    # из таблицы roi исключаем размеры когорт и cac\n",
    "    roi = roi.drop(columns=['cohort_size', 'cac'])\n",
    "    # в таблице динамики roi оставляем только нужный лайфтайм\n",
    "    roi_history = roi_history.drop(columns=['cohort_size', 'cac'])[\n",
    "        [horizon - 1]\n",
    "    ]\n",
    "\n",
    "    # первый график — кривые ltv\n",
    "    ax1 = plt.subplot(2, 3, 1)\n",
    "    ltv.T.plot(grid=True, ax=ax1)\n",
    "    plt.legend()\n",
    "    plt.xlabel('Лайфтайм')\n",
    "    plt.title('LTV')\n",
    "\n",
    "    # второй график — динамика ltv\n",
    "    ax2 = plt.subplot(2, 3, 2, sharey=ax1)\n",
    "    # столбцами сводной таблицы станут все столбцы индекса, кроме даты\n",
    "    columns = [name for name in ltv_history.index.names if name not in ['dt']]\n",
    "    filtered_data = ltv_history.pivot_table(\n",
    "        index='dt', columns=columns, values=horizon - 1, aggfunc='mean'\n",
    "    )\n",
    "    filter_data(filtered_data, window).plot(grid=True, ax=ax2)\n",
    "    plt.xlabel('Дата привлечения')\n",
    "    plt.title('Динамика LTV пользователей на {}-й день'.format(horizon))\n",
    "\n",
    "    # третий график — динамика cac\n",
    "    ax3 = plt.subplot(2, 3, 3, sharey=ax1)\n",
    "    # столбцами сводной таблицы станут все столбцы индекса, кроме даты\n",
    "    columns = [name for name in cac_history.index.names if name not in ['dt']]\n",
    "    filtered_data = cac_history.pivot_table(\n",
    "        index='dt', columns=columns, values='cac', aggfunc='mean'\n",
    "    )\n",
    "    filter_data(filtered_data, window).plot(grid=True, ax=ax3)\n",
    "    plt.xlabel('Дата привлечения')\n",
    "    plt.title('Динамика стоимости привлечения пользователей')\n",
    "\n",
    "    # четвёртый график — кривые roi\n",
    "    ax4 = plt.subplot(2, 3, 4)\n",
    "    roi.T.plot(grid=True, ax=ax4)\n",
    "    plt.axhline(y=1, color='red', linestyle='--', label='Уровень окупаемости')\n",
    "    plt.legend()\n",
    "    plt.xlabel('Лайфтайм')\n",
    "    plt.title('ROI')\n",
    "\n",
    "    # пятый график — динамика roi\n",
    "    ax5 = plt.subplot(2, 3, 5, sharey=ax4)\n",
    "    # столбцами сводной таблицы станут все столбцы индекса, кроме даты\n",
    "    columns = [name for name in roi_history.index.names if name not in ['dt']]\n",
    "    filtered_data = roi_history.pivot_table(\n",
    "        index='dt', columns=columns, values=horizon - 1, aggfunc='mean'\n",
    "    )\n",
    "    filter_data(filtered_data, window).plot(grid=True, ax=ax5)\n",
    "    plt.axhline(y=1, color='red', linestyle='--', label='Уровень окупаемости')\n",
    "    plt.xlabel('Дата привлечения')\n",
    "    plt.title('Динамика ROI пользователей на {}-й день'.format(horizon))\n",
    "\n",
    "    plt.tight_layout()\n",
    "    plt.show() "
   ]
  },
  {
   "cell_type": "markdown",
   "metadata": {
    "id": "V-KBT-KMWVwl"
   },
   "source": [
    "### Исследовательский анализ данных"
   ]
  },
  {
   "cell_type": "markdown",
   "metadata": {
    "id": "oOLsbJpNWVwm"
   },
   "source": [
    "#### Составим профили пользователей. Определим минимальную и максимальную даты привлечения пользователей."
   ]
  },
  {
   "cell_type": "code",
   "execution_count": null,
   "metadata": {},
   "outputs": [],
   "source": [
    "profiles = get_profiles(visits, orders, costs)\n",
    "profiles.head(5)"
   ]
  },
  {
   "cell_type": "code",
   "execution_count": null,
   "metadata": {},
   "outputs": [],
   "source": [
    "# определим минимальную дату привлечения пользователей\n",
    "print(min(pd.to_datetime(profiles['first_ts']).dt.date))"
   ]
  },
  {
   "cell_type": "code",
   "execution_count": null,
   "metadata": {},
   "outputs": [],
   "source": [
    "# определим минимальную дату привлечения пользователей\n",
    "print(max(pd.to_datetime(profiles['first_ts']).dt.date))"
   ]
  },
  {
   "cell_type": "markdown",
   "metadata": {},
   "source": [
    "#### Выясним, из каких стран пользователи приходят в приложение и на какую страну приходится больше всего платящих пользователей. Построим таблицу, отражающую количество пользователей и долю платящих из каждой страны."
   ]
  },
  {
   "cell_type": "code",
   "execution_count": null,
   "metadata": {},
   "outputs": [],
   "source": [
    "profiles.groupby('region').agg({'user_id': 'nunique', 'payer': 'mean'}).sort_values(by='payer', ascending=False) "
   ]
  },
  {
   "cell_type": "markdown",
   "metadata": {},
   "source": [
    "Пользователи приходят в приложение из следующих стран: United States, Germany, UK, France. На United States приходится больше всего платящих пользователей, у пользователей из France доля платящих ниже всех."
   ]
  },
  {
   "cell_type": "markdown",
   "metadata": {},
   "source": [
    "#### Узнаем, какими устройствами пользуются клиенты и какие устройства предпочитают платящие пользователи. Постройте таблицу, отражающую количество пользователей и долю платящих для каждого устройства."
   ]
  },
  {
   "cell_type": "code",
   "execution_count": null,
   "metadata": {},
   "outputs": [],
   "source": [
    "profiles.groupby('device').agg({'user_id': 'nunique', 'payer': 'mean'}).sort_values(by='payer', ascending=False) "
   ]
  },
  {
   "cell_type": "markdown",
   "metadata": {},
   "source": [
    "Клиенты используют следующие устройства: Mac, iPhone, Android, PC. На MAC приходится больше всего платящих пользователей, на устройства PC - меньше всего платящих пользователей."
   ]
  },
  {
   "cell_type": "markdown",
   "metadata": {},
   "source": [
    "#### Изучим рекламные источники привлечения и определим каналы, из которых пришло больше всего платящих пользователей. Построим таблицу, отражающую количество пользователей и долю платящих для каждого канала привлечения."
   ]
  },
  {
   "cell_type": "code",
   "execution_count": null,
   "metadata": {},
   "outputs": [],
   "source": [
    "profiles.groupby('channel').agg({'user_id': 'nunique', 'payer': 'mean'}).sort_values(by='payer', ascending=False)"
   ]
  },
  {
   "cell_type": "markdown",
   "metadata": {},
   "source": [
    "Всего продукт использует 11 источников привлечения трафика. Доля платящих самая высокая у канала FaceBoom, а самая низкая у organic. Но organic привлекает клиентов больше остальных каналов."
   ]
  },
  {
   "cell_type": "markdown",
   "metadata": {
    "id": "80LRB5-eWVwm"
   },
   "source": [
    "### Маркетинг"
   ]
  },
  {
   "cell_type": "markdown",
   "metadata": {},
   "source": [
    "#### Посчитаем общую сумму расходов на маркетинг."
   ]
  },
  {
   "cell_type": "code",
   "execution_count": null,
   "metadata": {},
   "outputs": [],
   "source": [
    "print('Расходы на маркетинг:', round(profiles['acquisition_cost'].sum(), 1))"
   ]
  },
  {
   "cell_type": "markdown",
   "metadata": {},
   "source": [
    "#### Выясним, как траты распределены по рекламным источникам"
   ]
  },
  {
   "cell_type": "code",
   "execution_count": null,
   "metadata": {},
   "outputs": [],
   "source": [
    "profiles.groupby('channel').agg(\n",
    "    {'acquisition_cost': 'sum'}).sort_values(by='acquisition_cost', ascending=False).plot(\n",
    "    kind='pie', y = 'acquisition_cost', autopct='%.1f',\n",
    "    figsize=[20, 10], \n",
    "    title='Распределение трат по источникам');"
   ]
  },
  {
   "cell_type": "markdown",
   "metadata": {},
   "source": [
    "Больше всего денег на маркетинг ушло в канал TipTop - более половины от всего рекламного бюджета. На втором месте источник FaceBoom.\n",
    "Наименьшие затраты у каналов YRabbit и MediaTornado. Трафик из канала organic условно бесплатный, соответственно в диаграмму не попал."
   ]
  },
  {
   "cell_type": "markdown",
   "metadata": {},
   "source": [
    "#### Построим визуализацию динамики изменения расходов во времени (по неделям и месяцам) по каждому источнику. Отразить это на одном графике."
   ]
  },
  {
   "cell_type": "markdown",
   "metadata": {},
   "source": [
    "Добавим к таблице profiles информацию о номере недели."
   ]
  },
  {
   "cell_type": "code",
   "execution_count": null,
   "metadata": {},
   "outputs": [],
   "source": [
    "profiles['week'] = pd.to_datetime(profiles['first_ts']).dt.isocalendar().week"
   ]
  },
  {
   "cell_type": "code",
   "execution_count": null,
   "metadata": {},
   "outputs": [],
   "source": [
    "сosts_month = profiles.pivot_table(\n",
    "    index='month', columns='channel', values='acquisition_cost', aggfunc='mean')\n",
    "costs_week = profiles.pivot_table(\n",
    "    index='week', columns='channel', values='acquisition_cost', aggfunc='mean')"
   ]
  },
  {
   "cell_type": "code",
   "execution_count": null,
   "metadata": {},
   "outputs": [],
   "source": [
    "costs['Расходы на привлечение по месяцам'] = costs['dt'].astype('datetime64[M]')\n",
    "costs['Расходы на привлечение по неделям'] = costs['dt'].astype('datetime64[W]')\n",
    "\n",
    "columns = ['Расходы на привлечение по месяцам', 'Расходы на привлечение по неделям']\n",
    "\n",
    "plt.subplots(figsize = (16, 5))\n",
    "for i, col in enumerate(columns):\n",
    "    costs.pivot_table(index = col, columns = 'channel', values = 'costs', \n",
    "                      aggfunc = 'sum').plot.area(ax = plt.subplot(1, 2, i + 1))\n",
    "    plt.title(col)\n",
    "    plt.xlabel('Дата')\n",
    "    plt.ylabel('Расходы, $')\n",
    "    plt.legend(ncol=3, bbox_to_anchor=(0, -0.4), loc='lower left', borderaxespad=0)\n",
    "plt.show()"
   ]
  },
  {
   "cell_type": "markdown",
   "metadata": {},
   "source": [
    "Расходов во времени (по неделям и месяцам) на маркетинг распределены равномерно по каждому источнику, за исключением расходов на TipTop.\n",
    "После 20-ой недели началось систематическое вливание денежных средств в канал, сумма расходов на который уже в начале рассмариваего периода почти в два раза обгоняла сумму расходов второго лидера - FaceBoom."
   ]
  },
  {
   "cell_type": "code",
   "execution_count": null,
   "metadata": {},
   "outputs": [],
   "source": [
    "profiles.groupby('channel').agg({'acquisition_cost': 'mean'}).sort_values(\n",
    "    by='acquisition_cost', ascending=False)"
   ]
  },
  {
   "cell_type": "markdown",
   "metadata": {
    "id": "poDjrQVHWVwn"
   },
   "source": [
    "### Оценим окупаемость рекламы"
   ]
  },
  {
   "cell_type": "markdown",
   "metadata": {
    "id": "hbNu9EXeWVwo"
   },
   "source": [
    "#### Проанализируем окупаемость рекламы c помощью графиков LTV и ROI, а также графики динамики LTV, CAC и ROI"
   ]
  },
  {
   "cell_type": "code",
   "execution_count": null,
   "metadata": {},
   "outputs": [],
   "source": [
    "observation_date = datetime(2019, 11, 1).date()  # момент анализа\n",
    "horizon_days = 14  # горизонт анализа "
   ]
  },
  {
   "cell_type": "code",
   "execution_count": null,
   "metadata": {},
   "outputs": [],
   "source": [
    "# исключим органических пользователей из выборки, тк на них не идут траты рекламного бюджета\n",
    "profiles_costs = profiles.query('channel != \"organic\"')"
   ]
  },
  {
   "cell_type": "code",
   "execution_count": null,
   "metadata": {},
   "outputs": [],
   "source": [
    "# считаем LTV и ROI\n",
    "ltv_raw, ltv_grouped, ltv_history, roi_grouped, roi_history = get_ltv(\n",
    "    profiles_costs, orders, observation_date, horizon_days\n",
    ")\n",
    "\n",
    "# строим графики\n",
    "plot_ltv_roi(ltv_grouped, ltv_history, roi_grouped, roi_history, horizon_days)"
   ]
  },
  {
   "cell_type": "markdown",
   "metadata": {},
   "source": [
    "По графикам можно сделать такие выводы:\n",
    "\n",
    "1. Реклама не окупается. ROI в конце второй недели — чуть выше 80%.\n",
    "2. CAC нестабилен. С большей вероятностью это происходит из-за увеличения рекламного бюджета, которое мы увидели ранее на графиках расходов по каналам привлечения.\n",
    "3. На LTV не влияет сезонный фактор, этот показатель достаточно стабилен. Значит, дело не в ухудшении качества пользователей.\n",
    "4. Стабильно окупались лишь те пользователи, которые были привлечены до июня 2019 года. Были моменты окупаемости в июне, но потом произошло окончательное падение в неокупаемость."
   ]
  },
  {
   "cell_type": "markdown",
   "metadata": {},
   "source": [
    "#### Проверим конверсию пользователей и динамику её изменения. Построим и изучим графики конверсии и удержания."
   ]
  },
  {
   "cell_type": "code",
   "execution_count": null,
   "metadata": {},
   "outputs": [],
   "source": [
    "# смотрим общую конверсию\n",
    "\n",
    "conversion_raw, conversion_grouped, conversion_history = get_conversion(\n",
    "    profiles, orders, observation_date, horizon_days\n",
    ")\n",
    "\n",
    "plot_conversion(conversion_grouped, conversion_history, horizon_days) "
   ]
  },
  {
   "cell_type": "markdown",
   "metadata": {},
   "source": [
    "Общая конверсия пользователей растёт: от 4% в первый день «жизни» пользователей до 5,75% на четырнадцатый день."
   ]
  },
  {
   "cell_type": "code",
   "execution_count": null,
   "metadata": {},
   "outputs": [],
   "source": [
    "conversion_raw, conversion, conversion_history = get_conversion(\n",
    "    profiles_costs, orders, datetime(2019, 11, 1).date(), 14\n",
    ")\n",
    "\n",
    "# строим хитмэп по таблице конверсии\n",
    "fig, ax = plt.subplots(figsize=(14, 5))\n",
    "sns.heatmap(conversion.drop(columns=['cohort_size']), annot=True, fmt='.2%')\n",
    "plt.title('Тепловая карта конверсии не органических пользователей')\n",
    "plt.show() "
   ]
  },
  {
   "cell_type": "markdown",
   "metadata": {},
   "source": [
    "Конверсия пользователей с не органических каналов заметно выше и растёт в динамике: от 5,88% в первый день «жизни» пользователей до 8,02% на четырнадцатый день."
   ]
  },
  {
   "cell_type": "code",
   "execution_count": null,
   "metadata": {},
   "outputs": [],
   "source": [
    "# получаем сырые данные, таблицу конверсии и таблицу динамики конверсии\n",
    "conversion_raw, conversion, conversion_history = get_conversion(\n",
    "    profiles_costs, orders, datetime(2019, 11, 1).date(), 14, dimensions=['region']\n",
    ")\n",
    "\n",
    "# строим хитмэп по таблице конверсии\n",
    "plt.figure(figsize=(15, 5))\n",
    "sns.heatmap(conversion.drop(columns=['cohort_size']), annot=True, fmt='.2%')\n",
    "plt.title('Тепловая карта конверсии по странам')\n",
    "plt.show() "
   ]
  },
  {
   "cell_type": "code",
   "execution_count": null,
   "metadata": {},
   "outputs": [],
   "source": [
    "# получаем сырые данные, таблицу конверсии и таблицу динамики конверсии\n",
    "conversion_raw, conversion, conversion_history = get_conversion(\n",
    "    profiles_costs, orders, datetime(2019, 11, 1).date(), 14, dimensions=['channel']\n",
    ")\n",
    "\n",
    "# строим хитмэп по таблице конверсии\n",
    "plt.figure(figsize=(15, 5))\n",
    "sns.heatmap(conversion.drop(columns=['cohort_size']), annot=True, fmt='.2%')\n",
    "plt.title('Тепловая карта конверсии по каналам')\n",
    "plt.show() "
   ]
  },
  {
   "cell_type": "code",
   "execution_count": null,
   "metadata": {},
   "outputs": [],
   "source": [
    "# получаем сырые данные, таблицу конверсии и таблицу динамики конверсии\n",
    "conversion_raw, conversion, conversion_history = get_conversion(\n",
    "    profiles_costs, orders, datetime(2019, 11, 1).date(), 14, dimensions=['device']\n",
    ")\n",
    "\n",
    "# строим хитмэп по таблице конверсии\n",
    "plt.figure(figsize=(15, 5))\n",
    "sns.heatmap(conversion.drop(columns=['cohort_size']), annot=True, fmt='.2%')\n",
    "plt.title('Тепловая карта конверсии по девайсам')\n",
    "plt.show() "
   ]
  },
  {
   "cell_type": "code",
   "execution_count": null,
   "metadata": {},
   "outputs": [],
   "source": [
    "# смотрим удержание\n",
    "dimensions = ['region']\n",
    "retention_raw, retention_grouped, retention_history = get_retention(\n",
    "    profiles, visits, observation_date, horizon_days, dimensions = dimensions\n",
    ")\n",
    "\n",
    "plot_retention(retention_grouped, retention_history, horizon_days) "
   ]
  },
  {
   "cell_type": "markdown",
   "metadata": {},
   "source": [
    "Пользователи из United States стабильно плохо удерживаются. Для платящих пользователей United States удержание 14-го дня ниже, чем в остальных странах.\n",
    "Очевидно существует проблема в подходе медиапланирования для этого региона, разберемся детальнее при подсчете метрик по кагортным разбивкам."
   ]
  },
  {
   "cell_type": "markdown",
   "metadata": {},
   "source": [
    "Посомтрим удержание по каналам."
   ]
  },
  {
   "cell_type": "code",
   "execution_count": null,
   "metadata": {},
   "outputs": [],
   "source": [
    "# смотрим удержание\n",
    "dimensions = ['channel']\n",
    "retention_raw, retention_grouped, retention_history = get_retention(\n",
    "    profiles, visits, observation_date, horizon_days, dimensions = dimensions\n",
    ")\n",
    "\n",
    "plot_retention(retention_grouped, retention_history, horizon_days) "
   ]
  },
  {
   "cell_type": "markdown",
   "metadata": {},
   "source": [
    "#### Проанализируем окупаемость рекламы с разбивкой по устройствам. Построим графики LTV и ROI, а также графики динамики LTV, CAC и ROI."
   ]
  },
  {
   "cell_type": "code",
   "execution_count": null,
   "metadata": {},
   "outputs": [],
   "source": [
    "dimensions = ['device']\n",
    "\n",
    "ltv_raw, ltv_grouped, ltv_history, roi_grouped, roi_history = get_ltv(\n",
    "    profiles_costs, orders, observation_date, horizon_days, dimensions=dimensions\n",
    ")\n",
    "\n",
    "plot_ltv_roi(\n",
    "    ltv_grouped, ltv_history, roi_grouped, roi_history, horizon_days, window=14\n",
    ") "
   ]
  },
  {
   "cell_type": "markdown",
   "metadata": {},
   "source": [
    "#### Проанализируем окупаемость рекламы с разбивкой по странам. Построим графики LTV и ROI, а также графики динамики LTV, CAC и ROI."
   ]
  },
  {
   "cell_type": "code",
   "execution_count": null,
   "metadata": {},
   "outputs": [],
   "source": [
    "dimensions = ['region']\n",
    "\n",
    "ltv_raw, ltv_grouped, ltv_history, roi_grouped, roi_history = get_ltv(\n",
    "    profiles_costs, orders, observation_date, horizon_days, dimensions=dimensions\n",
    ")\n",
    "\n",
    "plot_ltv_roi(\n",
    "    ltv_grouped, ltv_history, roi_grouped, roi_history, horizon_days, window=14\n",
    ") "
   ]
  },
  {
   "cell_type": "markdown",
   "metadata": {},
   "source": [
    "#### Проанализируем окупаемость рекламы с разбивкой по рекламным каналам. Построим графики LTV и ROI, а также графики динамики LTV, CAC и ROI."
   ]
  },
  {
   "cell_type": "code",
   "execution_count": null,
   "metadata": {},
   "outputs": [],
   "source": [
    "dimensions = ['channel']\n",
    "\n",
    "ltv_raw, ltv_grouped, ltv_history, roi_grouped, roi_history = get_ltv(\n",
    "    profiles_costs, orders, observation_date, horizon_days, dimensions=dimensions\n",
    ")\n",
    "\n",
    "plot_ltv_roi(\n",
    "    ltv_grouped, ltv_history, roi_grouped, roi_history, horizon_days, window=14\n",
    ") "
   ]
  },
  {
   "cell_type": "markdown",
   "metadata": {},
   "source": [
    "Проверим регион каналов-оутсайдеров [\"TipTop\", \"FaceBoom\", \"AdNonSence\"], чтобы исключить плохие рузультаты маркетинга из-за страны или платформы."
   ]
  },
  {
   "cell_type": "code",
   "execution_count": null,
   "metadata": {},
   "outputs": [],
   "source": [
    "profiles_costs_bad = profiles_costs.query(\n",
    "    'channel == [\"TipTop\", \"FaceBoom\", \"AdNonSense\"]')\n",
    "\n",
    "print(profiles_costs_bad['region'].value_counts())\n",
    "print(profiles_costs_bad['device'].value_counts())"
   ]
  },
  {
   "cell_type": "markdown",
   "metadata": {},
   "source": [
    "Как и ожидалось, эта \"большая тройка\" актуальна в основном в United States и тянет за собой показатели окупаемости в разбивке по девайсам и регионам."
   ]
  },
  {
   "cell_type": "markdown",
   "metadata": {},
   "source": [
    "#### Дополнительное исследование "
   ]
  },
  {
   "cell_type": "markdown",
   "metadata": {},
   "source": [
    "Исключим каналы \"TipTop\", \"FaceBoom\", \"AdNonSence\" из датафрейма, чтобы оценить метрики."
   ]
  },
  {
   "cell_type": "code",
   "execution_count": null,
   "metadata": {},
   "outputs": [],
   "source": [
    "profiles_costs_nott = profiles_costs.query(\n",
    "    'channel != [\"TipTop\", \"FaceBoom\", \"AdNonSense\"]') # выгрузим данные без каналов TipTop, FaceBoom, AdNonSence\n",
    "\n",
    "# считаем LTV и ROI\n",
    "ltv_raw, ltv_grouped, ltv_history, roi_grouped, roi_history = get_ltv(\n",
    "    profiles_costs_nott, orders, observation_date, horizon_days\n",
    ")\n",
    "\n",
    "# строим графики\n",
    "plot_ltv_roi(ltv_grouped, ltv_history, roi_grouped, roi_history, horizon_days)"
   ]
  },
  {
   "cell_type": "code",
   "execution_count": null,
   "metadata": {},
   "outputs": [],
   "source": [
    "dimensions = ['region']\n",
    "\n",
    "ltv_raw, ltv_grouped, ltv_history, roi_grouped, roi_history = get_ltv(\n",
    "    profiles_costs_nott, orders, observation_date, horizon_days, dimensions=dimensions\n",
    ")\n",
    "\n",
    "plot_ltv_roi(\n",
    "    ltv_grouped, ltv_history, roi_grouped, roi_history, horizon_days, window=14)"
   ]
  },
  {
   "cell_type": "code",
   "execution_count": null,
   "metadata": {},
   "outputs": [],
   "source": [
    "dimensions = ['device']\n",
    "\n",
    "ltv_raw, ltv_grouped, ltv_history, roi_grouped, roi_history = get_ltv(\n",
    "    profiles_costs_nott, orders, observation_date, horizon_days, dimensions=dimensions\n",
    ")\n",
    "\n",
    "plot_ltv_roi(\n",
    "    ltv_grouped, ltv_history, roi_grouped, roi_history, horizon_days, window=14)"
   ]
  },
  {
   "cell_type": "code",
   "execution_count": null,
   "metadata": {},
   "outputs": [],
   "source": [
    "dimensions = ['channel']\n",
    "\n",
    "ltv_raw, ltv_grouped, ltv_history, roi_grouped, roi_history = get_ltv(\n",
    "    profiles_costs_nott, orders, observation_date, horizon_days, dimensions=dimensions\n",
    ")\n",
    "\n",
    "plot_ltv_roi(\n",
    "    ltv_grouped, ltv_history, roi_grouped, roi_history, horizon_days, window=14)"
   ]
  },
  {
   "cell_type": "markdown",
   "metadata": {},
   "source": [
    "Мы видим, что без этих трех каналов затраты на рекламу начинают окупаться уже на пятый день, стоимость клиента стабилизируется, а United States выходит в лидеры по окупаемости."
   ]
  },
  {
   "cell_type": "markdown",
   "metadata": {},
   "source": [
    "<div class=\"alert alert-block alert-info\">\n",
    "    \n",
    "Данные по США  \n",
    "</div>"
   ]
  },
  {
   "cell_type": "code",
   "execution_count": null,
   "metadata": {},
   "outputs": [],
   "source": [
    "profiles_usa = profiles.query('region == \"United States\"')\n",
    "dimensions = ['channel']\n",
    "\n",
    "ltv_raw, ltv_grouped, ltv_history, roi_grouped, roi_history = get_ltv(\n",
    "    profiles_usa, orders, observation_date, horizon_days, dimensions=dimensions\n",
    ")\n",
    "\n",
    "plot_ltv_roi(\n",
    "    ltv_grouped, ltv_history, roi_grouped, roi_history, horizon_days, window=14)"
   ]
  },
  {
   "cell_type": "markdown",
   "metadata": {},
   "source": [
    "<div class=\"alert alert-block alert-info\">\n",
    "    \n",
    "Так как основные пробоемы окупаемости мы обнаружиди в регионе США, сформируем список рекомендаций отдельно для него:\n",
    "    \n",
    "    - исключить канал TipTop из медиапланирования до проведения AB теста, успешность которого будет определяться показателями ROI\n",
    "    \n",
    "    - увеличить финансирование для каналов YRabbit, MediaTornado, RocketSuperAds, тк они имеют положительную динамику окупаемости и низкую стоимость привлечения клиента.\n",
    "    \n",
    "    - поработать над увеличением показателя удержания пользователей из канала FaceBoom. Возможно, маркетинг отделу стоит обратить внимание на дополнительные активности, чтобы задержать клиента. Например, рассылка промокодов на седьмой день жизни клиента.\n",
    "</div>"
   ]
  },
  {
   "cell_type": "markdown",
   "metadata": {},
   "source": [
    "#### Вывод"
   ]
  },
  {
   "cell_type": "markdown",
   "metadata": {},
   "source": [
    "- Окупается ли реклама, направленная на привлечение пользователей в целом?\n",
    "\n",
    "Реклама не окупается. ROI в конце второй недели — чуть выше 80%. CAC нестабилен. \n",
    "Это происходит из-за увеличения рекламного бюджета для канала TipTop, которое мы увидели ранее на графиках расходов по каналам привлечения и подтвердили графиками окупаемости рекламы с разбивкой по рекламным каналам и Дополнительным исследованием. Каналы FaceBoom, AdNonSence показывают стабильные метрики CAC и отличную конверсию, но пользователи из этих каналов не удерживаются, что негативно влияет на показатели рекламных кампаний.\n",
    "\n",
    "\n",
    "- Какие устройства, страны и рекламные каналы могут оказывать негативное влияние на окупаемость рекламы?\n",
    "\n",
    "Страны и устройства не являются источником плохих результатов маркетинга. Истиная причина - увеличение рекламного бюджета для каналов TipTop, FaceBoom, AdNonSence, которые не окупаются.\n",
    "\n",
    "- Чем могут быть вызваны проблемы окупаемости?\n",
    "\n",
    "TipTop - очень дорогой канал, тянущий деньги. FaceBoom приводит платящих пользователей с низким качеством, они быстро уходят. В среднем пользователь из источника TipTop стоил 2.799003 условных денег. На втором месте по стоимости CAC канал FaceBoom, который почти в три раза дешевле лидируещго и составляет 1.113286 условных денег.\n",
    "\n",
    "Проблемы окупаемости связаны с некорректным медипланированием. Судя по показателям выдающейся конверсии с разбивкой по странам для United States, которая более чем в два раза выше по сравнению со странами-конкурентками (7,19% против ~3,3) и высокому LTV у TipTop, FaceBoom, AdNonSence с разбивкой по каналам, маркетологи использовали только эти метрики для планирования бюджета, не уделяя внимание окупаемости рекламы по источникам привлечения. \n",
    "\n",
    "Технически проблемы могут быть связаны с некорректной настройкой рекламного кабинета для данных каналов, неправильная установка моделей оплаты трафика cpc / cpm."
   ]
  },
  {
   "cell_type": "markdown",
   "metadata": {
    "id": "Jn9XBfZCWVwo"
   },
   "source": [
    "### Вывод\n",
    "\n",
    "Мы провели маркетинговый анализ развлекательного приложения Procrastinate Pro+ и выяснили, почему несмотря на огромные вложения в рекламу, последние несколько месяцев компания терпит убытки.\n",
    "\n",
    "В процеесе изучения данных, было выявлено, что пользователи приходят в приложение из следующих стран: United States, Germany, UK, France. На United States приходится больше всего платящих пользователей, у пользователей из France доля платящих ниже всех. Клиенты используют следующие устройства: Mac, iPhone, Android, PC. На MAC приходится больше всего платящих пользователей, на устройства PC - меньше всего платящих пользователей.\n",
    "\n",
    "Всего продукт использует 11 источников привлечения трафика. Доля платящих самая высокая у канала FaceBoom, а самая низкая у organic. Но organic привлекает клиентов больше остальных каналов и он условно бесплатный. \n",
    "\n",
    "Больше всего денег на маркетинг ушло в канал TipTop - более половины от всего рекламного бюджета. На втором месте источник FaceBoom. Наименьшие затраты у каналов YRabbit и MediaTornado.\n",
    "\n",
    "Расходы во времени (по неделям и месяцам) на маркетинг распределены равномерно по каждому источнику, за исключением расходов на TipTop. После 20-ой недели началось систематическое вливание денежных средств в канал, сумма расходов на который уже в начале рассмариваего периода почти в два раза обгоняла сумму расходов второго лидера - FaceBoom.\n",
    "\n",
    "Неэффективность привлечения пользователей обоснована низким ROI (в конце второй недели — чуть выше 80%), при том что бизнесу для выхода в окупаемость требуется ROI 100% уже к концу второй недели. \n",
    "\n",
    "CAC нестабилен. Это происходит из-за увеличения рекламного бюджета для каналов TipTop, FaceBoom, AdNonSence, которое мы увидели ранее на графиках расходов по каналам привлечения и подтвердили графиками окупаемости рекламы с разбивкой по рекламным каналам и Дополнительным исследованием, исключив каналы из выборки.\n",
    "\n",
    "Проблемы окупаемости связаны с некорректным медипланированием. Судя по показателям выдающейся конверсии с разбивкой по странам для United States, которая более чем в два раза выше по сравнению со странами-конкурентками (7,19% против ~3,3) и высокому LTV у TipTop, FaceBoom, AdNonSence с разбивкой по каналам, маркетологи использовали только эти метрики для планирования бюджета, не уделяя внимание окупаемости рекламы по источникам привлечения.\n",
    "\n",
    "Кроме того, технически проблемы могут быть связаны с некорректной настройкой рекламного кабинета для данных каналов, неправильная установка моделей оплаты трафика cpc / cpm."
   ]
  },
  {
   "cell_type": "markdown",
   "metadata": {},
   "source": [
    "Рекомендации отделу маркетинга:\n",
    "\n",
    "Каналы LambdaMediaAds, YRabbit, LeapBob, RocketSuperAds показывают отличную окупаемость в рамках всего периода и выходят в положительный ROI уже на третий день. Бюджет для этих каналов можно увеличивать.\n",
    "\n",
    "Рекомендую отделу маркетинга исключить канал TipTop, из медиапланирвоания и выходить в него только после проведения AB тестирования, результаты которого будет основаны на показателях ROI. \n",
    "\n",
    "Так как основные пробоемы окупаемости мы обнаружиди в регионе США, сформируем список рекомендаций отдельно для него:\n",
    "\n",
    "    * исключить канал TipTop из медиапланирования до проведения AB теста, успешность которого будет определяться показателями ROI\n",
    "    \n",
    "    * увеличить финансирование для каналов YRabbit, MediaTornado, RocketSuperAds, тк они имеют положительную динамику окупаемости и низкую стоимость привлечения клиента.\n",
    "    \n",
    "    * поработать над увеличением показателя удержания пользователей из канала FaceBoom. Возможно, маркетинг отделу стоит обратить внимание на дополнительные активности, чтобы задержать клиента. Например, рассылка промокодов на седьмой день жизни клиента.\n"
   ]
  }
 ],
 "metadata": {
  "ExecuteTimeLog": [
   {
    "duration": 1317,
    "start_time": "2023-06-20T18:02:12.140Z"
   },
   {
    "duration": 3,
    "start_time": "2023-06-20T18:02:35.941Z"
   },
   {
    "duration": 2960,
    "start_time": "2023-06-20T18:07:07.930Z"
   },
   {
    "duration": 4,
    "start_time": "2023-06-20T18:30:42.028Z"
   },
   {
    "duration": 724,
    "start_time": "2023-06-20T18:30:42.034Z"
   },
   {
    "duration": 118,
    "start_time": "2023-06-20T18:30:45.792Z"
   },
   {
    "duration": 18,
    "start_time": "2023-06-20T18:31:00.189Z"
   },
   {
    "duration": 12,
    "start_time": "2023-06-20T18:31:22.595Z"
   },
   {
    "duration": 65,
    "start_time": "2023-06-20T18:32:43.394Z"
   },
   {
    "duration": 66,
    "start_time": "2023-06-20T18:32:59.401Z"
   },
   {
    "duration": 12,
    "start_time": "2023-06-20T18:33:18.851Z"
   },
   {
    "duration": 12,
    "start_time": "2023-06-20T18:33:47.962Z"
   },
   {
    "duration": 113,
    "start_time": "2023-06-20T18:34:56.659Z"
   },
   {
    "duration": 19,
    "start_time": "2023-06-20T18:35:19.233Z"
   },
   {
    "duration": 13,
    "start_time": "2023-06-20T18:35:36.651Z"
   },
   {
    "duration": 36,
    "start_time": "2023-06-20T18:36:32.639Z"
   },
   {
    "duration": 15,
    "start_time": "2023-06-20T18:36:50.688Z"
   },
   {
    "duration": 368,
    "start_time": "2023-06-20T18:37:09.972Z"
   },
   {
    "duration": 34,
    "start_time": "2023-06-20T19:29:22.503Z"
   },
   {
    "duration": 12,
    "start_time": "2023-06-20T19:29:51.035Z"
   },
   {
    "duration": 10,
    "start_time": "2023-06-20T19:31:58.029Z"
   },
   {
    "duration": 13,
    "start_time": "2023-06-20T19:32:35.756Z"
   },
   {
    "duration": 5,
    "start_time": "2023-06-20T19:34:23.844Z"
   },
   {
    "duration": 378,
    "start_time": "2023-06-20T19:35:35.903Z"
   },
   {
    "duration": 374,
    "start_time": "2023-06-20T19:35:48.652Z"
   },
   {
    "duration": 376,
    "start_time": "2023-06-20T19:36:06.912Z"
   },
   {
    "duration": 155,
    "start_time": "2023-06-20T19:38:06.852Z"
   },
   {
    "duration": 1484,
    "start_time": "2023-06-21T05:03:33.845Z"
   },
   {
    "duration": 2523,
    "start_time": "2023-06-21T05:03:35.332Z"
   },
   {
    "duration": 383,
    "start_time": "2023-06-21T05:03:37.857Z"
   },
   {
    "duration": 38,
    "start_time": "2023-06-21T05:03:38.243Z"
   },
   {
    "duration": 41,
    "start_time": "2023-06-21T05:03:38.285Z"
   },
   {
    "duration": 9,
    "start_time": "2023-06-21T05:03:38.328Z"
   },
   {
    "duration": 189,
    "start_time": "2023-06-21T05:03:38.339Z"
   },
   {
    "duration": 8,
    "start_time": "2023-06-21T05:03:38.531Z"
   },
   {
    "duration": 21,
    "start_time": "2023-06-21T05:03:38.541Z"
   },
   {
    "duration": 18,
    "start_time": "2023-06-21T05:03:38.563Z"
   },
   {
    "duration": 12,
    "start_time": "2023-06-21T05:03:38.585Z"
   },
   {
    "duration": 18,
    "start_time": "2023-06-21T05:03:38.599Z"
   },
   {
    "duration": 20,
    "start_time": "2023-06-21T05:03:38.619Z"
   },
   {
    "duration": 15,
    "start_time": "2023-06-21T05:03:38.642Z"
   },
   {
    "duration": 13,
    "start_time": "2023-06-21T05:03:38.658Z"
   },
   {
    "duration": 127,
    "start_time": "2023-06-21T05:05:08.790Z"
   },
   {
    "duration": 8,
    "start_time": "2023-06-21T05:22:01.763Z"
   },
   {
    "duration": 752,
    "start_time": "2023-06-21T05:22:09.355Z"
   },
   {
    "duration": 538,
    "start_time": "2023-06-21T05:22:16.549Z"
   },
   {
    "duration": 207,
    "start_time": "2023-06-21T05:28:36.097Z"
   },
   {
    "duration": 95,
    "start_time": "2023-06-21T05:31:34.191Z"
   },
   {
    "duration": 78,
    "start_time": "2023-06-21T05:31:55.395Z"
   },
   {
    "duration": 314,
    "start_time": "2023-06-21T05:32:03.768Z"
   },
   {
    "duration": 28,
    "start_time": "2023-06-21T05:36:56.474Z"
   },
   {
    "duration": 107,
    "start_time": "2023-06-21T05:37:07.300Z"
   },
   {
    "duration": 83,
    "start_time": "2023-06-21T05:37:12.338Z"
   },
   {
    "duration": 108,
    "start_time": "2023-06-21T05:37:26.267Z"
   },
   {
    "duration": 10,
    "start_time": "2023-06-21T05:42:57.147Z"
   },
   {
    "duration": 892,
    "start_time": "2023-06-21T05:42:57.162Z"
   },
   {
    "duration": 420,
    "start_time": "2023-06-21T05:42:58.056Z"
   },
   {
    "duration": 35,
    "start_time": "2023-06-21T05:42:58.478Z"
   },
   {
    "duration": 21,
    "start_time": "2023-06-21T05:42:58.515Z"
   },
   {
    "duration": 6,
    "start_time": "2023-06-21T05:42:58.538Z"
   },
   {
    "duration": 224,
    "start_time": "2023-06-21T05:42:58.546Z"
   },
   {
    "duration": 10,
    "start_time": "2023-06-21T05:42:58.773Z"
   },
   {
    "duration": 19,
    "start_time": "2023-06-21T05:42:58.785Z"
   },
   {
    "duration": 17,
    "start_time": "2023-06-21T05:42:58.807Z"
   },
   {
    "duration": 17,
    "start_time": "2023-06-21T05:42:58.826Z"
   },
   {
    "duration": 20,
    "start_time": "2023-06-21T05:42:58.845Z"
   },
   {
    "duration": 13,
    "start_time": "2023-06-21T05:42:58.867Z"
   },
   {
    "duration": 18,
    "start_time": "2023-06-21T05:42:58.883Z"
   },
   {
    "duration": 21,
    "start_time": "2023-06-21T05:42:58.903Z"
   },
   {
    "duration": 623,
    "start_time": "2023-06-21T05:42:58.926Z"
   },
   {
    "duration": 187,
    "start_time": "2023-06-21T05:42:59.557Z"
   },
   {
    "duration": 94,
    "start_time": "2023-06-21T05:42:59.746Z"
   },
   {
    "duration": 10,
    "start_time": "2023-06-21T05:43:03.171Z"
   },
   {
    "duration": 4,
    "start_time": "2023-06-21T05:46:39.918Z"
   },
   {
    "duration": 2284,
    "start_time": "2023-06-21T05:46:43.053Z"
   },
   {
    "duration": 4,
    "start_time": "2023-06-21T05:51:34.491Z"
   },
   {
    "duration": 2292,
    "start_time": "2023-06-21T05:51:37.304Z"
   },
   {
    "duration": 4,
    "start_time": "2023-06-21T05:52:44.812Z"
   },
   {
    "duration": 2620,
    "start_time": "2023-06-21T05:52:47.467Z"
   },
   {
    "duration": 5,
    "start_time": "2023-06-21T18:19:06.174Z"
   },
   {
    "duration": 3027,
    "start_time": "2023-06-21T18:19:06.183Z"
   },
   {
    "duration": 405,
    "start_time": "2023-06-21T18:19:09.212Z"
   },
   {
    "duration": 34,
    "start_time": "2023-06-21T18:19:09.627Z"
   },
   {
    "duration": 48,
    "start_time": "2023-06-21T18:19:09.663Z"
   },
   {
    "duration": 24,
    "start_time": "2023-06-21T18:19:09.717Z"
   },
   {
    "duration": 249,
    "start_time": "2023-06-21T18:19:09.743Z"
   },
   {
    "duration": 8,
    "start_time": "2023-06-21T18:19:09.994Z"
   },
   {
    "duration": 71,
    "start_time": "2023-06-21T18:19:10.003Z"
   },
   {
    "duration": 11,
    "start_time": "2023-06-21T18:19:10.079Z"
   },
   {
    "duration": 14,
    "start_time": "2023-06-21T18:19:10.092Z"
   },
   {
    "duration": 35,
    "start_time": "2023-06-21T18:19:10.107Z"
   },
   {
    "duration": 26,
    "start_time": "2023-06-21T18:19:10.147Z"
   },
   {
    "duration": 10,
    "start_time": "2023-06-21T18:19:10.177Z"
   },
   {
    "duration": 19,
    "start_time": "2023-06-21T18:19:10.190Z"
   },
   {
    "duration": 563,
    "start_time": "2023-06-21T18:19:10.211Z"
   },
   {
    "duration": 115,
    "start_time": "2023-06-21T18:19:10.776Z"
   },
   {
    "duration": 103,
    "start_time": "2023-06-21T18:19:10.894Z"
   },
   {
    "duration": 51,
    "start_time": "2023-06-21T18:23:07.088Z"
   },
   {
    "duration": 97,
    "start_time": "2023-06-21T18:24:10.940Z"
   },
   {
    "duration": 24,
    "start_time": "2023-06-21T18:24:22.577Z"
   },
   {
    "duration": 44,
    "start_time": "2023-06-21T18:24:34.701Z"
   },
   {
    "duration": 1438,
    "start_time": "2023-06-21T18:39:06.971Z"
   },
   {
    "duration": 55,
    "start_time": "2023-06-21T18:39:33.311Z"
   },
   {
    "duration": 48,
    "start_time": "2023-06-21T18:40:19.640Z"
   },
   {
    "duration": 35,
    "start_time": "2023-06-21T18:40:32.656Z"
   },
   {
    "duration": 43,
    "start_time": "2023-06-21T18:40:41.102Z"
   },
   {
    "duration": 1667,
    "start_time": "2023-06-21T18:41:51.399Z"
   },
   {
    "duration": 101,
    "start_time": "2023-06-21T18:42:08.899Z"
   },
   {
    "duration": 1949,
    "start_time": "2023-06-21T18:43:09.489Z"
   },
   {
    "duration": 102,
    "start_time": "2023-06-21T18:43:24.701Z"
   },
   {
    "duration": 12,
    "start_time": "2023-06-21T18:45:01.394Z"
   },
   {
    "duration": 14,
    "start_time": "2023-06-21T18:46:38.634Z"
   },
   {
    "duration": 89,
    "start_time": "2023-06-21T18:49:42.548Z"
   },
   {
    "duration": 60,
    "start_time": "2023-06-21T18:49:57.513Z"
   },
   {
    "duration": 37,
    "start_time": "2023-06-21T18:58:37.968Z"
   },
   {
    "duration": 52,
    "start_time": "2023-06-21T19:14:38.141Z"
   },
   {
    "duration": 9,
    "start_time": "2023-06-21T19:26:28.554Z"
   },
   {
    "duration": 5,
    "start_time": "2023-06-21T19:26:50.798Z"
   },
   {
    "duration": 6,
    "start_time": "2023-06-21T19:26:57.802Z"
   },
   {
    "duration": 6,
    "start_time": "2023-06-21T19:27:01.189Z"
   },
   {
    "duration": 6,
    "start_time": "2023-06-21T19:27:07.384Z"
   },
   {
    "duration": 7,
    "start_time": "2023-06-21T19:27:14.902Z"
   },
   {
    "duration": 9,
    "start_time": "2023-06-21T19:28:01.940Z"
   },
   {
    "duration": 12,
    "start_time": "2023-06-21T19:28:43.454Z"
   },
   {
    "duration": 45,
    "start_time": "2023-06-21T19:30:28.992Z"
   },
   {
    "duration": 34,
    "start_time": "2023-06-21T19:34:53.352Z"
   },
   {
    "duration": 39,
    "start_time": "2023-06-21T19:35:00.515Z"
   },
   {
    "duration": 40,
    "start_time": "2023-06-21T19:36:35.349Z"
   },
   {
    "duration": 427,
    "start_time": "2023-06-21T19:36:58.555Z"
   },
   {
    "duration": 261,
    "start_time": "2023-06-21T19:39:55.100Z"
   },
   {
    "duration": 349,
    "start_time": "2023-06-21T19:40:22.996Z"
   },
   {
    "duration": 2355,
    "start_time": "2023-06-21T19:40:45.694Z"
   },
   {
    "duration": 2251,
    "start_time": "2023-06-21T19:41:02.158Z"
   },
   {
    "duration": 2087,
    "start_time": "2023-06-21T19:41:09.713Z"
   },
   {
    "duration": 214,
    "start_time": "2023-06-21T19:41:17.875Z"
   },
   {
    "duration": 31,
    "start_time": "2023-06-21T19:41:29.037Z"
   },
   {
    "duration": 38,
    "start_time": "2023-06-21T19:43:39.193Z"
   },
   {
    "duration": 514,
    "start_time": "2023-06-21T19:44:26.177Z"
   },
   {
    "duration": 571,
    "start_time": "2023-06-21T19:44:39.098Z"
   },
   {
    "duration": 469,
    "start_time": "2023-06-21T19:44:45.859Z"
   },
   {
    "duration": 428,
    "start_time": "2023-06-21T20:00:22.740Z"
   },
   {
    "duration": 15,
    "start_time": "2023-06-21T20:06:45.958Z"
   },
   {
    "duration": 35,
    "start_time": "2023-06-21T20:06:51.710Z"
   },
   {
    "duration": 21,
    "start_time": "2023-06-21T20:06:56.594Z"
   },
   {
    "duration": 23,
    "start_time": "2023-06-21T20:07:03.239Z"
   },
   {
    "duration": 44,
    "start_time": "2023-06-21T20:10:26.450Z"
   },
   {
    "duration": 31,
    "start_time": "2023-06-21T20:10:47.440Z"
   },
   {
    "duration": 49,
    "start_time": "2023-06-21T20:11:10.005Z"
   },
   {
    "duration": 14,
    "start_time": "2023-06-21T20:11:28.560Z"
   },
   {
    "duration": 8,
    "start_time": "2023-06-21T20:11:53.849Z"
   },
   {
    "duration": 49,
    "start_time": "2023-06-21T20:12:50.937Z"
   },
   {
    "duration": 667,
    "start_time": "2023-06-21T20:13:04.979Z"
   },
   {
    "duration": 36,
    "start_time": "2023-06-21T20:14:19.573Z"
   },
   {
    "duration": 80,
    "start_time": "2023-06-21T20:14:22.159Z"
   },
   {
    "duration": 688,
    "start_time": "2023-06-21T20:14:23.794Z"
   },
   {
    "duration": 741,
    "start_time": "2023-06-21T20:15:25.867Z"
   },
   {
    "duration": 1446,
    "start_time": "2023-06-22T05:38:36.113Z"
   },
   {
    "duration": 1052,
    "start_time": "2023-06-22T05:38:37.561Z"
   },
   {
    "duration": 379,
    "start_time": "2023-06-22T05:38:38.615Z"
   },
   {
    "duration": 25,
    "start_time": "2023-06-22T05:38:38.996Z"
   },
   {
    "duration": 134,
    "start_time": "2023-06-22T05:38:39.024Z"
   },
   {
    "duration": 50,
    "start_time": "2023-06-22T05:38:39.160Z"
   },
   {
    "duration": 200,
    "start_time": "2023-06-22T05:38:39.212Z"
   },
   {
    "duration": 87,
    "start_time": "2023-06-22T05:38:39.414Z"
   },
   {
    "duration": 11,
    "start_time": "2023-06-22T05:38:39.503Z"
   },
   {
    "duration": 28,
    "start_time": "2023-06-22T05:38:39.516Z"
   },
   {
    "duration": 11,
    "start_time": "2023-06-22T05:38:39.545Z"
   },
   {
    "duration": 13,
    "start_time": "2023-06-22T05:38:39.557Z"
   },
   {
    "duration": 22,
    "start_time": "2023-06-22T05:38:39.571Z"
   },
   {
    "duration": 12,
    "start_time": "2023-06-22T05:38:39.596Z"
   },
   {
    "duration": 22,
    "start_time": "2023-06-22T05:38:39.610Z"
   },
   {
    "duration": 8,
    "start_time": "2023-06-22T05:38:39.634Z"
   },
   {
    "duration": 11,
    "start_time": "2023-06-22T05:38:39.645Z"
   },
   {
    "duration": 13,
    "start_time": "2023-06-22T05:38:39.658Z"
   },
   {
    "duration": 495,
    "start_time": "2023-06-22T05:38:39.674Z"
   },
   {
    "duration": 61,
    "start_time": "2023-06-22T05:38:40.175Z"
   },
   {
    "duration": 95,
    "start_time": "2023-06-22T05:38:40.238Z"
   },
   {
    "duration": 52,
    "start_time": "2023-06-22T05:38:40.335Z"
   },
   {
    "duration": 31,
    "start_time": "2023-06-22T05:38:40.388Z"
   },
   {
    "duration": 55,
    "start_time": "2023-06-22T05:38:40.421Z"
   },
   {
    "duration": 4,
    "start_time": "2023-06-22T05:38:40.478Z"
   },
   {
    "duration": 364,
    "start_time": "2023-06-22T05:38:40.483Z"
   },
   {
    "duration": 48,
    "start_time": "2023-06-22T05:38:40.849Z"
   },
   {
    "duration": 61,
    "start_time": "2023-06-22T05:38:40.898Z"
   },
   {
    "duration": 583,
    "start_time": "2023-06-22T05:38:40.961Z"
   },
   {
    "duration": 4,
    "start_time": "2023-06-22T05:38:41.546Z"
   },
   {
    "duration": 1622,
    "start_time": "2023-06-22T05:38:46.721Z"
   },
   {
    "duration": 24,
    "start_time": "2023-06-22T05:43:38.668Z"
   },
   {
    "duration": 14,
    "start_time": "2023-06-22T05:44:28.253Z"
   },
   {
    "duration": 1339,
    "start_time": "2023-06-22T05:44:50.699Z"
   },
   {
    "duration": 16,
    "start_time": "2023-06-22T13:13:40.429Z"
   },
   {
    "duration": 12,
    "start_time": "2023-06-22T13:13:49.058Z"
   },
   {
    "duration": 20,
    "start_time": "2023-06-22T13:14:23.549Z"
   },
   {
    "duration": 16,
    "start_time": "2023-06-22T13:14:31.034Z"
   },
   {
    "duration": 16,
    "start_time": "2023-06-22T13:14:40.940Z"
   },
   {
    "duration": 4,
    "start_time": "2023-06-22T17:37:56.843Z"
   },
   {
    "duration": 722,
    "start_time": "2023-06-22T17:37:56.849Z"
   },
   {
    "duration": 319,
    "start_time": "2023-06-22T17:37:57.573Z"
   },
   {
    "duration": 24,
    "start_time": "2023-06-22T17:37:57.893Z"
   },
   {
    "duration": 14,
    "start_time": "2023-06-22T17:37:57.919Z"
   },
   {
    "duration": 7,
    "start_time": "2023-06-22T17:37:57.934Z"
   },
   {
    "duration": 155,
    "start_time": "2023-06-22T17:37:57.942Z"
   },
   {
    "duration": 80,
    "start_time": "2023-06-22T17:37:58.098Z"
   },
   {
    "duration": 14,
    "start_time": "2023-06-22T17:37:58.180Z"
   },
   {
    "duration": 10,
    "start_time": "2023-06-22T17:37:58.196Z"
   },
   {
    "duration": 13,
    "start_time": "2023-06-22T17:37:58.207Z"
   },
   {
    "duration": 38,
    "start_time": "2023-06-22T17:37:58.221Z"
   },
   {
    "duration": 31,
    "start_time": "2023-06-22T17:37:58.265Z"
   },
   {
    "duration": 35,
    "start_time": "2023-06-22T17:37:58.298Z"
   },
   {
    "duration": 30,
    "start_time": "2023-06-22T17:37:58.335Z"
   },
   {
    "duration": 41,
    "start_time": "2023-06-22T17:37:58.367Z"
   },
   {
    "duration": 27,
    "start_time": "2023-06-22T17:37:58.409Z"
   },
   {
    "duration": 43,
    "start_time": "2023-06-22T17:37:58.437Z"
   },
   {
    "duration": 425,
    "start_time": "2023-06-22T17:37:58.482Z"
   },
   {
    "duration": 73,
    "start_time": "2023-06-22T17:37:58.909Z"
   },
   {
    "duration": 75,
    "start_time": "2023-06-22T17:37:58.984Z"
   },
   {
    "duration": 45,
    "start_time": "2023-06-22T17:37:59.061Z"
   },
   {
    "duration": 33,
    "start_time": "2023-06-22T17:37:59.108Z"
   },
   {
    "duration": 50,
    "start_time": "2023-06-22T17:37:59.143Z"
   },
   {
    "duration": 4,
    "start_time": "2023-06-22T17:37:59.195Z"
   },
   {
    "duration": 353,
    "start_time": "2023-06-22T17:37:59.201Z"
   },
   {
    "duration": 121,
    "start_time": "2023-06-22T17:37:59.555Z"
   },
   {
    "duration": 51,
    "start_time": "2023-06-22T17:37:59.678Z"
   },
   {
    "duration": 569,
    "start_time": "2023-06-22T17:37:59.731Z"
   },
   {
    "duration": 3,
    "start_time": "2023-06-22T17:38:00.302Z"
   },
   {
    "duration": 48,
    "start_time": "2023-06-22T17:38:00.306Z"
   },
   {
    "duration": 1208,
    "start_time": "2023-06-22T17:38:00.355Z"
   },
   {
    "duration": 106,
    "start_time": "2023-06-22T17:42:01.044Z"
   },
   {
    "duration": 12,
    "start_time": "2023-06-22T18:14:05.811Z"
   },
   {
    "duration": 11,
    "start_time": "2023-06-22T18:16:22.841Z"
   },
   {
    "duration": 11,
    "start_time": "2023-06-22T18:16:49.879Z"
   },
   {
    "duration": 30,
    "start_time": "2023-06-22T18:18:14.193Z"
   },
   {
    "duration": 3,
    "start_time": "2023-06-22T18:18:27.728Z"
   },
   {
    "duration": 629,
    "start_time": "2023-06-22T18:18:27.733Z"
   },
   {
    "duration": 329,
    "start_time": "2023-06-22T18:18:28.363Z"
   },
   {
    "duration": 23,
    "start_time": "2023-06-22T18:18:28.694Z"
   },
   {
    "duration": 15,
    "start_time": "2023-06-22T18:18:28.719Z"
   },
   {
    "duration": 36,
    "start_time": "2023-06-22T18:18:28.735Z"
   },
   {
    "duration": 164,
    "start_time": "2023-06-22T18:18:28.773Z"
   },
   {
    "duration": 78,
    "start_time": "2023-06-22T18:18:28.939Z"
   },
   {
    "duration": 9,
    "start_time": "2023-06-22T18:18:29.019Z"
   },
   {
    "duration": 8,
    "start_time": "2023-06-22T18:18:29.030Z"
   },
   {
    "duration": 9,
    "start_time": "2023-06-22T18:18:29.453Z"
   },
   {
    "duration": 26,
    "start_time": "2023-06-22T18:18:29.464Z"
   },
   {
    "duration": 10,
    "start_time": "2023-06-22T18:18:30.357Z"
   },
   {
    "duration": 9,
    "start_time": "2023-06-22T18:18:32.312Z"
   },
   {
    "duration": 12,
    "start_time": "2023-06-22T18:18:32.324Z"
   },
   {
    "duration": 8,
    "start_time": "2023-06-22T18:18:33.323Z"
   },
   {
    "duration": 6,
    "start_time": "2023-06-22T18:18:34.193Z"
   },
   {
    "duration": 15,
    "start_time": "2023-06-22T18:18:35.332Z"
   },
   {
    "duration": 459,
    "start_time": "2023-06-22T18:18:35.350Z"
   },
   {
    "duration": 71,
    "start_time": "2023-06-22T18:18:35.811Z"
   },
   {
    "duration": 71,
    "start_time": "2023-06-22T18:18:35.884Z"
   },
   {
    "duration": 223,
    "start_time": "2023-06-22T18:18:35.957Z"
   },
   {
    "duration": 31,
    "start_time": "2023-06-22T18:18:36.182Z"
   },
   {
    "duration": 34,
    "start_time": "2023-06-22T18:18:36.215Z"
   },
   {
    "duration": 9,
    "start_time": "2023-06-22T18:18:36.381Z"
   },
   {
    "duration": 361,
    "start_time": "2023-06-22T18:18:36.392Z"
   },
   {
    "duration": 105,
    "start_time": "2023-06-22T18:18:36.754Z"
   },
   {
    "duration": 64,
    "start_time": "2023-06-22T18:18:36.984Z"
   },
   {
    "duration": 483,
    "start_time": "2023-06-22T18:18:37.050Z"
   },
   {
    "duration": 2,
    "start_time": "2023-06-22T18:18:37.535Z"
   },
   {
    "duration": 21,
    "start_time": "2023-06-22T18:18:37.539Z"
   },
   {
    "duration": 1173,
    "start_time": "2023-06-22T18:18:37.790Z"
   },
   {
    "duration": 10,
    "start_time": "2023-06-22T18:23:07.053Z"
   },
   {
    "duration": 11,
    "start_time": "2023-06-22T18:23:19.096Z"
   },
   {
    "duration": 3,
    "start_time": "2023-06-22T18:23:45.949Z"
   },
   {
    "duration": 699,
    "start_time": "2023-06-22T18:23:45.954Z"
   },
   {
    "duration": 353,
    "start_time": "2023-06-22T18:23:46.655Z"
   },
   {
    "duration": 24,
    "start_time": "2023-06-22T18:23:47.010Z"
   },
   {
    "duration": 14,
    "start_time": "2023-06-22T18:23:47.036Z"
   },
   {
    "duration": 41,
    "start_time": "2023-06-22T18:23:47.051Z"
   },
   {
    "duration": 143,
    "start_time": "2023-06-22T18:23:47.093Z"
   },
   {
    "duration": 91,
    "start_time": "2023-06-22T18:23:47.238Z"
   },
   {
    "duration": 9,
    "start_time": "2023-06-22T18:23:47.331Z"
   },
   {
    "duration": 8,
    "start_time": "2023-06-22T18:23:47.341Z"
   },
   {
    "duration": 6,
    "start_time": "2023-06-22T18:23:47.350Z"
   },
   {
    "duration": 17,
    "start_time": "2023-06-22T18:23:47.383Z"
   },
   {
    "duration": 9,
    "start_time": "2023-06-22T18:23:47.401Z"
   },
   {
    "duration": 10,
    "start_time": "2023-06-22T18:23:47.412Z"
   },
   {
    "duration": 12,
    "start_time": "2023-06-22T18:23:47.423Z"
   },
   {
    "duration": 8,
    "start_time": "2023-06-22T18:23:47.436Z"
   },
   {
    "duration": 8,
    "start_time": "2023-06-22T18:23:47.445Z"
   },
   {
    "duration": 10,
    "start_time": "2023-06-22T18:23:47.455Z"
   },
   {
    "duration": 458,
    "start_time": "2023-06-22T18:23:47.466Z"
   },
   {
    "duration": 78,
    "start_time": "2023-06-22T18:23:47.925Z"
   },
   {
    "duration": 59,
    "start_time": "2023-06-22T18:23:48.005Z"
   },
   {
    "duration": 58,
    "start_time": "2023-06-22T18:23:48.066Z"
   },
   {
    "duration": 78,
    "start_time": "2023-06-22T18:23:48.126Z"
   },
   {
    "duration": 33,
    "start_time": "2023-06-22T18:23:48.205Z"
   },
   {
    "duration": 3,
    "start_time": "2023-06-22T18:23:48.240Z"
   },
   {
    "duration": 366,
    "start_time": "2023-06-22T18:23:48.245Z"
   },
   {
    "duration": 121,
    "start_time": "2023-06-22T18:23:48.612Z"
   },
   {
    "duration": 68,
    "start_time": "2023-06-22T18:23:48.735Z"
   },
   {
    "duration": 509,
    "start_time": "2023-06-22T18:23:48.805Z"
   },
   {
    "duration": 3,
    "start_time": "2023-06-22T18:23:49.315Z"
   },
   {
    "duration": 34,
    "start_time": "2023-06-22T18:23:49.319Z"
   },
   {
    "duration": 1262,
    "start_time": "2023-06-22T18:23:49.355Z"
   },
   {
    "duration": 9,
    "start_time": "2023-06-22T18:23:54.809Z"
   },
   {
    "duration": 304,
    "start_time": "2023-06-22T18:26:19.493Z"
   },
   {
    "duration": 5214,
    "start_time": "2023-06-22T18:26:55.625Z"
   },
   {
    "duration": 414,
    "start_time": "2023-06-22T18:33:14.921Z"
   },
   {
    "duration": 32,
    "start_time": "2023-06-22T18:42:09.814Z"
   },
   {
    "duration": 3,
    "start_time": "2023-06-22T18:46:37.926Z"
   },
   {
    "duration": 684,
    "start_time": "2023-06-22T18:46:37.931Z"
   },
   {
    "duration": 391,
    "start_time": "2023-06-22T18:46:38.616Z"
   },
   {
    "duration": 23,
    "start_time": "2023-06-22T18:46:39.009Z"
   },
   {
    "duration": 14,
    "start_time": "2023-06-22T18:46:39.034Z"
   },
   {
    "duration": 5,
    "start_time": "2023-06-22T18:46:39.049Z"
   },
   {
    "duration": 175,
    "start_time": "2023-06-22T18:46:39.078Z"
   },
   {
    "duration": 96,
    "start_time": "2023-06-22T18:46:39.255Z"
   },
   {
    "duration": 8,
    "start_time": "2023-06-22T18:46:39.353Z"
   },
   {
    "duration": 20,
    "start_time": "2023-06-22T18:46:39.363Z"
   },
   {
    "duration": 22,
    "start_time": "2023-06-22T18:46:39.385Z"
   },
   {
    "duration": 16,
    "start_time": "2023-06-22T18:46:39.408Z"
   },
   {
    "duration": 12,
    "start_time": "2023-06-22T18:46:39.425Z"
   },
   {
    "duration": 27,
    "start_time": "2023-06-22T18:46:39.439Z"
   },
   {
    "duration": 39,
    "start_time": "2023-06-22T18:46:39.467Z"
   },
   {
    "duration": 8,
    "start_time": "2023-06-22T18:46:39.510Z"
   },
   {
    "duration": 8,
    "start_time": "2023-06-22T18:46:39.520Z"
   },
   {
    "duration": 21,
    "start_time": "2023-06-22T18:46:39.530Z"
   },
   {
    "duration": 452,
    "start_time": "2023-06-22T18:46:39.552Z"
   },
   {
    "duration": 74,
    "start_time": "2023-06-22T18:46:40.006Z"
   },
   {
    "duration": 66,
    "start_time": "2023-06-22T18:46:40.082Z"
   },
   {
    "duration": 47,
    "start_time": "2023-06-22T18:46:40.150Z"
   },
   {
    "duration": 47,
    "start_time": "2023-06-22T18:46:40.199Z"
   },
   {
    "duration": 46,
    "start_time": "2023-06-22T18:46:40.247Z"
   },
   {
    "duration": 8,
    "start_time": "2023-06-22T18:46:40.295Z"
   },
   {
    "duration": 363,
    "start_time": "2023-06-22T18:46:40.305Z"
   },
   {
    "duration": 40,
    "start_time": "2023-06-22T18:46:40.670Z"
   },
   {
    "duration": 58,
    "start_time": "2023-06-22T18:46:40.711Z"
   },
   {
    "duration": 650,
    "start_time": "2023-06-22T18:46:40.770Z"
   },
   {
    "duration": 3,
    "start_time": "2023-06-22T18:46:41.421Z"
   },
   {
    "duration": 29,
    "start_time": "2023-06-22T18:46:41.426Z"
   },
   {
    "duration": 1258,
    "start_time": "2023-06-22T18:46:41.456Z"
   },
   {
    "duration": 1832,
    "start_time": "2023-06-22T18:46:50.160Z"
   },
   {
    "duration": 1984,
    "start_time": "2023-06-22T18:48:41.875Z"
   },
   {
    "duration": 1720,
    "start_time": "2023-06-22T18:49:36.269Z"
   },
   {
    "duration": 1796,
    "start_time": "2023-06-22T18:49:57.312Z"
   },
   {
    "duration": 2055,
    "start_time": "2023-06-22T18:50:53.045Z"
   },
   {
    "duration": 540,
    "start_time": "2023-06-22T18:57:52.857Z"
   },
   {
    "duration": 408,
    "start_time": "2023-06-22T18:59:20.956Z"
   },
   {
    "duration": 548,
    "start_time": "2023-06-22T19:00:38.609Z"
   },
   {
    "duration": 574,
    "start_time": "2023-06-22T19:00:44.801Z"
   },
   {
    "duration": 564,
    "start_time": "2023-06-22T19:00:52.037Z"
   },
   {
    "duration": 490,
    "start_time": "2023-06-22T19:02:12.060Z"
   },
   {
    "duration": 502,
    "start_time": "2023-06-22T19:04:01.446Z"
   },
   {
    "duration": 810,
    "start_time": "2023-06-22T19:06:58.099Z"
   },
   {
    "duration": 1233,
    "start_time": "2023-06-22T19:08:02.253Z"
   },
   {
    "duration": 912,
    "start_time": "2023-06-22T19:09:23.423Z"
   },
   {
    "duration": 14,
    "start_time": "2023-06-22T19:21:04.339Z"
   },
   {
    "duration": 28,
    "start_time": "2023-06-22T19:24:18.242Z"
   },
   {
    "duration": 29,
    "start_time": "2023-06-22T19:41:20.610Z"
   },
   {
    "duration": 2,
    "start_time": "2023-06-22T19:43:07.342Z"
   },
   {
    "duration": 618,
    "start_time": "2023-06-22T19:43:07.346Z"
   },
   {
    "duration": 338,
    "start_time": "2023-06-22T19:43:07.966Z"
   },
   {
    "duration": 22,
    "start_time": "2023-06-22T19:43:08.305Z"
   },
   {
    "duration": 39,
    "start_time": "2023-06-22T19:43:08.329Z"
   },
   {
    "duration": 76,
    "start_time": "2023-06-22T19:43:08.369Z"
   },
   {
    "duration": 180,
    "start_time": "2023-06-22T19:43:08.447Z"
   },
   {
    "duration": 77,
    "start_time": "2023-06-22T19:43:08.629Z"
   },
   {
    "duration": 7,
    "start_time": "2023-06-22T19:43:08.708Z"
   },
   {
    "duration": 52,
    "start_time": "2023-06-22T19:43:08.717Z"
   },
   {
    "duration": 59,
    "start_time": "2023-06-22T19:43:08.771Z"
   },
   {
    "duration": 41,
    "start_time": "2023-06-22T19:43:08.832Z"
   },
   {
    "duration": 59,
    "start_time": "2023-06-22T19:43:08.879Z"
   },
   {
    "duration": 60,
    "start_time": "2023-06-22T19:43:08.940Z"
   },
   {
    "duration": 50,
    "start_time": "2023-06-22T19:43:09.001Z"
   },
   {
    "duration": 65,
    "start_time": "2023-06-22T19:43:09.053Z"
   },
   {
    "duration": 69,
    "start_time": "2023-06-22T19:43:09.120Z"
   },
   {
    "duration": 55,
    "start_time": "2023-06-22T19:43:09.192Z"
   },
   {
    "duration": 502,
    "start_time": "2023-06-22T19:43:09.248Z"
   },
   {
    "duration": 72,
    "start_time": "2023-06-22T19:43:09.752Z"
   },
   {
    "duration": 108,
    "start_time": "2023-06-22T19:43:09.827Z"
   },
   {
    "duration": 33,
    "start_time": "2023-06-22T19:43:09.937Z"
   },
   {
    "duration": 86,
    "start_time": "2023-06-22T19:43:09.983Z"
   },
   {
    "duration": 81,
    "start_time": "2023-06-22T19:43:10.071Z"
   },
   {
    "duration": 12,
    "start_time": "2023-06-22T19:43:10.155Z"
   },
   {
    "duration": 421,
    "start_time": "2023-06-22T19:43:10.168Z"
   },
   {
    "duration": 29,
    "start_time": "2023-06-22T19:43:10.591Z"
   },
   {
    "duration": 106,
    "start_time": "2023-06-22T19:43:10.621Z"
   },
   {
    "duration": 559,
    "start_time": "2023-06-22T19:43:10.728Z"
   },
   {
    "duration": 3,
    "start_time": "2023-06-22T19:43:11.289Z"
   },
   {
    "duration": 33,
    "start_time": "2023-06-22T19:43:11.294Z"
   },
   {
    "duration": 1280,
    "start_time": "2023-06-22T19:43:11.328Z"
   },
   {
    "duration": 525,
    "start_time": "2023-06-22T19:43:12.609Z"
   },
   {
    "duration": 812,
    "start_time": "2023-06-22T19:43:13.136Z"
   },
   {
    "duration": 1222,
    "start_time": "2023-06-22T19:43:13.950Z"
   },
   {
    "duration": 796,
    "start_time": "2023-06-22T19:43:15.174Z"
   },
   {
    "duration": 1031,
    "start_time": "2023-06-22T19:45:45.836Z"
   },
   {
    "duration": 637,
    "start_time": "2023-06-22T19:49:30.829Z"
   },
   {
    "duration": 1141,
    "start_time": "2023-06-22T19:53:51.896Z"
   },
   {
    "duration": 598,
    "start_time": "2023-06-22T19:56:18.693Z"
   },
   {
    "duration": 683,
    "start_time": "2023-06-22T19:56:52.597Z"
   },
   {
    "duration": 1133,
    "start_time": "2023-06-22T19:57:01.385Z"
   },
   {
    "duration": 1160,
    "start_time": "2023-06-22T19:57:30.511Z"
   },
   {
    "duration": 1712,
    "start_time": "2023-06-22T19:58:21.081Z"
   },
   {
    "duration": 1574,
    "start_time": "2023-06-22T19:59:03.985Z"
   },
   {
    "duration": 1440,
    "start_time": "2023-06-22T20:00:09.911Z"
   },
   {
    "duration": 2,
    "start_time": "2023-06-23T11:56:40.269Z"
   },
   {
    "duration": 4,
    "start_time": "2023-06-23T11:59:57.198Z"
   },
   {
    "duration": 5,
    "start_time": "2023-06-23T12:24:03.731Z"
   },
   {
    "duration": 832,
    "start_time": "2023-06-23T12:24:03.739Z"
   },
   {
    "duration": 459,
    "start_time": "2023-06-23T12:24:04.572Z"
   },
   {
    "duration": 25,
    "start_time": "2023-06-23T12:24:05.038Z"
   },
   {
    "duration": 35,
    "start_time": "2023-06-23T12:24:05.065Z"
   },
   {
    "duration": 52,
    "start_time": "2023-06-23T12:24:05.101Z"
   },
   {
    "duration": 286,
    "start_time": "2023-06-23T12:24:05.155Z"
   },
   {
    "duration": 117,
    "start_time": "2023-06-23T12:24:05.443Z"
   },
   {
    "duration": 25,
    "start_time": "2023-06-23T12:24:05.562Z"
   },
   {
    "duration": 71,
    "start_time": "2023-06-23T12:24:05.591Z"
   },
   {
    "duration": 64,
    "start_time": "2023-06-23T12:24:05.665Z"
   },
   {
    "duration": 23,
    "start_time": "2023-06-23T12:24:05.731Z"
   },
   {
    "duration": 109,
    "start_time": "2023-06-23T12:24:05.757Z"
   },
   {
    "duration": 58,
    "start_time": "2023-06-23T12:24:05.868Z"
   },
   {
    "duration": 35,
    "start_time": "2023-06-23T12:24:05.927Z"
   },
   {
    "duration": 66,
    "start_time": "2023-06-23T12:24:05.964Z"
   },
   {
    "duration": 13,
    "start_time": "2023-06-23T12:24:06.032Z"
   },
   {
    "duration": 16,
    "start_time": "2023-06-23T12:24:06.047Z"
   },
   {
    "duration": 689,
    "start_time": "2023-06-23T12:24:06.065Z"
   },
   {
    "duration": 133,
    "start_time": "2023-06-23T12:24:06.756Z"
   },
   {
    "duration": 114,
    "start_time": "2023-06-23T12:24:06.891Z"
   },
   {
    "duration": 44,
    "start_time": "2023-06-23T12:24:07.007Z"
   },
   {
    "duration": 48,
    "start_time": "2023-06-23T12:24:07.052Z"
   },
   {
    "duration": 47,
    "start_time": "2023-06-23T12:24:07.102Z"
   },
   {
    "duration": 9,
    "start_time": "2023-06-23T12:24:07.151Z"
   },
   {
    "duration": 462,
    "start_time": "2023-06-23T12:24:07.181Z"
   },
   {
    "duration": 153,
    "start_time": "2023-06-23T12:24:07.644Z"
   },
   {
    "duration": 101,
    "start_time": "2023-06-23T12:24:07.804Z"
   },
   {
    "duration": 646,
    "start_time": "2023-06-23T12:24:07.914Z"
   },
   {
    "duration": 19,
    "start_time": "2023-06-23T12:24:08.562Z"
   },
   {
    "duration": 71,
    "start_time": "2023-06-23T12:24:08.583Z"
   },
   {
    "duration": 1466,
    "start_time": "2023-06-23T12:24:08.655Z"
   },
   {
    "duration": 865,
    "start_time": "2023-06-23T12:24:10.123Z"
   },
   {
    "duration": 649,
    "start_time": "2023-06-23T12:24:10.990Z"
   },
   {
    "duration": 1126,
    "start_time": "2023-06-23T12:24:11.643Z"
   },
   {
    "duration": 1783,
    "start_time": "2023-06-23T12:24:12.771Z"
   },
   {
    "duration": 996,
    "start_time": "2023-06-23T12:24:14.556Z"
   },
   {
    "duration": 1680,
    "start_time": "2023-06-23T12:24:15.554Z"
   },
   {
    "duration": 2024,
    "start_time": "2023-06-23T12:24:17.244Z"
   },
   {
    "duration": 1967,
    "start_time": "2023-06-23T12:24:19.270Z"
   },
   {
    "duration": 2720,
    "start_time": "2023-06-23T12:24:21.241Z"
   },
   {
    "duration": 1396,
    "start_time": "2023-06-23T12:24:40.440Z"
   },
   {
    "duration": 1454,
    "start_time": "2023-06-23T12:25:43.985Z"
   },
   {
    "duration": 2138,
    "start_time": "2023-06-23T12:27:34.527Z"
   },
   {
    "duration": 25,
    "start_time": "2023-06-23T12:29:48.959Z"
   },
   {
    "duration": 1448,
    "start_time": "2023-06-23T12:30:05.205Z"
   },
   {
    "duration": 1786,
    "start_time": "2023-06-23T12:30:49.418Z"
   },
   {
    "duration": 1666,
    "start_time": "2023-06-23T12:33:13.587Z"
   },
   {
    "duration": 18,
    "start_time": "2023-06-23T12:37:25.113Z"
   },
   {
    "duration": 34,
    "start_time": "2023-06-23T12:49:33.683Z"
   },
   {
    "duration": 1420,
    "start_time": "2023-06-23T12:53:58.598Z"
   },
   {
    "duration": 120,
    "start_time": "2023-06-23T12:54:44.714Z"
   },
   {
    "duration": 1975,
    "start_time": "2023-06-23T12:55:03.243Z"
   },
   {
    "duration": 58,
    "start_time": "2023-06-23T13:37:13.754Z"
   },
   {
    "duration": 1748,
    "start_time": "2023-06-23T13:37:26.266Z"
   },
   {
    "duration": 48,
    "start_time": "2023-06-23T13:41:59.603Z"
   },
   {
    "duration": 50,
    "start_time": "2023-06-23T13:42:08.740Z"
   },
   {
    "duration": 2329,
    "start_time": "2023-06-23T13:42:23.637Z"
   },
   {
    "duration": 1201,
    "start_time": "2023-06-23T13:44:48.247Z"
   },
   {
    "duration": 3,
    "start_time": "2023-06-23T13:45:00.700Z"
   },
   {
    "duration": 829,
    "start_time": "2023-06-23T13:45:00.705Z"
   },
   {
    "duration": 387,
    "start_time": "2023-06-23T13:45:01.535Z"
   },
   {
    "duration": 26,
    "start_time": "2023-06-23T13:45:01.924Z"
   },
   {
    "duration": 91,
    "start_time": "2023-06-23T13:45:01.953Z"
   },
   {
    "duration": 83,
    "start_time": "2023-06-23T13:45:02.046Z"
   },
   {
    "duration": 303,
    "start_time": "2023-06-23T13:45:02.131Z"
   },
   {
    "duration": 133,
    "start_time": "2023-06-23T13:45:02.436Z"
   },
   {
    "duration": 18,
    "start_time": "2023-06-23T13:45:02.570Z"
   },
   {
    "duration": 179,
    "start_time": "2023-06-23T13:45:02.590Z"
   },
   {
    "duration": 66,
    "start_time": "2023-06-23T13:45:02.771Z"
   },
   {
    "duration": 89,
    "start_time": "2023-06-23T13:45:02.839Z"
   },
   {
    "duration": 22,
    "start_time": "2023-06-23T13:45:02.929Z"
   },
   {
    "duration": 11,
    "start_time": "2023-06-23T13:45:02.954Z"
   },
   {
    "duration": 39,
    "start_time": "2023-06-23T13:45:02.966Z"
   },
   {
    "duration": 9,
    "start_time": "2023-06-23T13:45:03.006Z"
   },
   {
    "duration": 30,
    "start_time": "2023-06-23T13:45:03.016Z"
   },
   {
    "duration": 46,
    "start_time": "2023-06-23T13:45:03.048Z"
   },
   {
    "duration": 473,
    "start_time": "2023-06-23T13:45:03.096Z"
   },
   {
    "duration": 76,
    "start_time": "2023-06-23T13:45:03.575Z"
   },
   {
    "duration": 83,
    "start_time": "2023-06-23T13:45:03.653Z"
   },
   {
    "duration": 38,
    "start_time": "2023-06-23T13:45:03.738Z"
   },
   {
    "duration": 43,
    "start_time": "2023-06-23T13:45:03.777Z"
   },
   {
    "duration": 57,
    "start_time": "2023-06-23T13:45:03.821Z"
   },
   {
    "duration": 4,
    "start_time": "2023-06-23T13:45:03.880Z"
   },
   {
    "duration": 520,
    "start_time": "2023-06-23T13:45:03.886Z"
   },
   {
    "duration": 33,
    "start_time": "2023-06-23T13:45:04.407Z"
   },
   {
    "duration": 83,
    "start_time": "2023-06-23T13:45:04.441Z"
   },
   {
    "duration": 571,
    "start_time": "2023-06-23T13:45:04.525Z"
   },
   {
    "duration": 3,
    "start_time": "2023-06-23T13:45:05.098Z"
   },
   {
    "duration": 27,
    "start_time": "2023-06-23T13:45:05.104Z"
   },
   {
    "duration": 1369,
    "start_time": "2023-06-23T13:45:05.132Z"
   },
   {
    "duration": 713,
    "start_time": "2023-06-23T13:45:06.503Z"
   },
   {
    "duration": 527,
    "start_time": "2023-06-23T13:45:07.218Z"
   },
   {
    "duration": 988,
    "start_time": "2023-06-23T13:45:07.746Z"
   },
   {
    "duration": 1327,
    "start_time": "2023-06-23T13:45:08.736Z"
   },
   {
    "duration": 973,
    "start_time": "2023-06-23T13:45:10.065Z"
   },
   {
    "duration": 1508,
    "start_time": "2023-06-23T13:45:11.040Z"
   },
   {
    "duration": 1899,
    "start_time": "2023-06-23T13:45:12.549Z"
   },
   {
    "duration": 1721,
    "start_time": "2023-06-23T13:45:14.450Z"
   },
   {
    "duration": 2364,
    "start_time": "2023-06-23T13:45:16.175Z"
   },
   {
    "duration": 40,
    "start_time": "2023-06-23T13:45:18.541Z"
   },
   {
    "duration": 1218,
    "start_time": "2023-06-23T13:45:18.583Z"
   },
   {
    "duration": 1715,
    "start_time": "2023-06-23T13:45:19.803Z"
   },
   {
    "duration": 1641,
    "start_time": "2023-06-23T13:45:21.520Z"
   },
   {
    "duration": 1951,
    "start_time": "2023-06-23T13:45:23.164Z"
   },
   {
    "duration": 22,
    "start_time": "2023-06-23T13:46:15.716Z"
   },
   {
    "duration": 71,
    "start_time": "2023-06-23T13:59:04.896Z"
   },
   {
    "duration": 3,
    "start_time": "2023-06-23T14:03:05.192Z"
   },
   {
    "duration": 720,
    "start_time": "2023-06-23T14:03:05.197Z"
   },
   {
    "duration": 361,
    "start_time": "2023-06-23T14:03:05.919Z"
   },
   {
    "duration": 39,
    "start_time": "2023-06-23T14:03:06.283Z"
   },
   {
    "duration": 18,
    "start_time": "2023-06-23T14:03:06.326Z"
   },
   {
    "duration": 67,
    "start_time": "2023-06-23T14:03:06.346Z"
   },
   {
    "duration": 225,
    "start_time": "2023-06-23T14:03:06.415Z"
   },
   {
    "duration": 97,
    "start_time": "2023-06-23T14:03:06.641Z"
   },
   {
    "duration": 8,
    "start_time": "2023-06-23T14:03:06.739Z"
   },
   {
    "duration": 19,
    "start_time": "2023-06-23T14:03:06.749Z"
   },
   {
    "duration": 39,
    "start_time": "2023-06-23T14:03:06.770Z"
   },
   {
    "duration": 25,
    "start_time": "2023-06-23T14:03:06.811Z"
   },
   {
    "duration": 31,
    "start_time": "2023-06-23T14:03:06.838Z"
   },
   {
    "duration": 43,
    "start_time": "2023-06-23T14:03:06.872Z"
   },
   {
    "duration": 20,
    "start_time": "2023-06-23T14:03:06.916Z"
   },
   {
    "duration": 31,
    "start_time": "2023-06-23T14:03:06.938Z"
   },
   {
    "duration": 41,
    "start_time": "2023-06-23T14:03:06.970Z"
   },
   {
    "duration": 23,
    "start_time": "2023-06-23T14:03:07.013Z"
   },
   {
    "duration": 487,
    "start_time": "2023-06-23T14:03:07.038Z"
   },
   {
    "duration": 77,
    "start_time": "2023-06-23T14:03:07.527Z"
   },
   {
    "duration": 67,
    "start_time": "2023-06-23T14:03:07.606Z"
   },
   {
    "duration": 48,
    "start_time": "2023-06-23T14:03:07.675Z"
   },
   {
    "duration": 30,
    "start_time": "2023-06-23T14:03:07.725Z"
   },
   {
    "duration": 44,
    "start_time": "2023-06-23T14:03:07.757Z"
   },
   {
    "duration": 4,
    "start_time": "2023-06-23T14:03:07.803Z"
   },
   {
    "duration": 428,
    "start_time": "2023-06-23T14:03:07.809Z"
   },
   {
    "duration": 30,
    "start_time": "2023-06-23T14:03:08.239Z"
   },
   {
    "duration": 69,
    "start_time": "2023-06-23T14:03:08.271Z"
   },
   {
    "duration": 570,
    "start_time": "2023-06-23T14:03:08.341Z"
   },
   {
    "duration": 2,
    "start_time": "2023-06-23T14:03:08.913Z"
   },
   {
    "duration": 29,
    "start_time": "2023-06-23T14:03:08.917Z"
   },
   {
    "duration": 1394,
    "start_time": "2023-06-23T14:03:08.947Z"
   },
   {
    "duration": 726,
    "start_time": "2023-06-23T14:03:10.343Z"
   },
   {
    "duration": 561,
    "start_time": "2023-06-23T14:03:11.071Z"
   },
   {
    "duration": 875,
    "start_time": "2023-06-23T14:03:11.635Z"
   },
   {
    "duration": 1327,
    "start_time": "2023-06-23T14:03:12.512Z"
   },
   {
    "duration": 989,
    "start_time": "2023-06-23T14:03:13.840Z"
   },
   {
    "duration": 1526,
    "start_time": "2023-06-23T14:03:14.831Z"
   },
   {
    "duration": 1780,
    "start_time": "2023-06-23T14:03:16.358Z"
   },
   {
    "duration": 1924,
    "start_time": "2023-06-23T14:03:18.139Z"
   },
   {
    "duration": 2457,
    "start_time": "2023-06-23T14:03:20.080Z"
   },
   {
    "duration": 46,
    "start_time": "2023-06-23T14:03:22.539Z"
   },
   {
    "duration": 1202,
    "start_time": "2023-06-23T14:03:22.589Z"
   },
   {
    "duration": 1549,
    "start_time": "2023-06-23T14:03:23.796Z"
   },
   {
    "duration": 1762,
    "start_time": "2023-06-23T14:03:25.346Z"
   },
   {
    "duration": 1916,
    "start_time": "2023-06-23T14:03:27.110Z"
   },
   {
    "duration": 1224,
    "start_time": "2023-06-23T15:22:09.103Z"
   },
   {
    "duration": 666,
    "start_time": "2023-06-23T15:22:10.329Z"
   },
   {
    "duration": 401,
    "start_time": "2023-06-23T15:22:10.997Z"
   },
   {
    "duration": 22,
    "start_time": "2023-06-23T15:22:11.400Z"
   },
   {
    "duration": 22,
    "start_time": "2023-06-23T15:22:11.424Z"
   },
   {
    "duration": 6,
    "start_time": "2023-06-23T15:22:11.448Z"
   },
   {
    "duration": 173,
    "start_time": "2023-06-23T15:22:11.457Z"
   },
   {
    "duration": 75,
    "start_time": "2023-06-23T15:22:11.632Z"
   },
   {
    "duration": 28,
    "start_time": "2023-06-23T15:22:11.708Z"
   },
   {
    "duration": 11,
    "start_time": "2023-06-23T15:22:11.737Z"
   },
   {
    "duration": 11,
    "start_time": "2023-06-23T15:22:11.750Z"
   },
   {
    "duration": 12,
    "start_time": "2023-06-23T15:22:11.763Z"
   },
   {
    "duration": 10,
    "start_time": "2023-06-23T15:22:11.777Z"
   },
   {
    "duration": 25,
    "start_time": "2023-06-23T15:22:11.790Z"
   },
   {
    "duration": 14,
    "start_time": "2023-06-23T15:22:11.816Z"
   },
   {
    "duration": 12,
    "start_time": "2023-06-23T15:22:11.832Z"
   },
   {
    "duration": 20,
    "start_time": "2023-06-23T15:22:11.845Z"
   },
   {
    "duration": 11,
    "start_time": "2023-06-23T15:22:11.866Z"
   },
   {
    "duration": 439,
    "start_time": "2023-06-23T15:22:11.878Z"
   },
   {
    "duration": 66,
    "start_time": "2023-06-23T15:22:12.319Z"
   },
   {
    "duration": 83,
    "start_time": "2023-06-23T15:22:12.386Z"
   },
   {
    "duration": 32,
    "start_time": "2023-06-23T15:22:12.471Z"
   },
   {
    "duration": 44,
    "start_time": "2023-06-23T15:22:12.504Z"
   },
   {
    "duration": 37,
    "start_time": "2023-06-23T15:22:12.549Z"
   },
   {
    "duration": 4,
    "start_time": "2023-06-23T15:22:12.588Z"
   },
   {
    "duration": 400,
    "start_time": "2023-06-23T15:22:12.593Z"
   },
   {
    "duration": 42,
    "start_time": "2023-06-23T15:22:12.995Z"
   },
   {
    "duration": 63,
    "start_time": "2023-06-23T15:22:13.039Z"
   },
   {
    "duration": 578,
    "start_time": "2023-06-23T15:22:13.104Z"
   },
   {
    "duration": 3,
    "start_time": "2023-06-23T15:22:13.684Z"
   },
   {
    "duration": 26,
    "start_time": "2023-06-23T15:22:13.688Z"
   },
   {
    "duration": 1546,
    "start_time": "2023-06-23T15:22:13.715Z"
   },
   {
    "duration": 674,
    "start_time": "2023-06-23T15:22:15.263Z"
   },
   {
    "duration": 554,
    "start_time": "2023-06-23T15:22:15.939Z"
   },
   {
    "duration": 792,
    "start_time": "2023-06-23T15:22:16.495Z"
   },
   {
    "duration": 1350,
    "start_time": "2023-06-23T15:22:17.289Z"
   },
   {
    "duration": 882,
    "start_time": "2023-06-23T15:22:18.641Z"
   },
   {
    "duration": 1417,
    "start_time": "2023-06-23T15:22:19.532Z"
   },
   {
    "duration": 1658,
    "start_time": "2023-06-23T15:22:20.951Z"
   },
   {
    "duration": 1690,
    "start_time": "2023-06-23T15:22:22.611Z"
   },
   {
    "duration": 2380,
    "start_time": "2023-06-23T15:22:24.305Z"
   },
   {
    "duration": 21,
    "start_time": "2023-06-23T15:22:26.687Z"
   },
   {
    "duration": 1215,
    "start_time": "2023-06-23T15:22:26.710Z"
   },
   {
    "duration": 1613,
    "start_time": "2023-06-23T15:22:27.927Z"
   },
   {
    "duration": 1734,
    "start_time": "2023-06-23T15:22:29.543Z"
   },
   {
    "duration": 1987,
    "start_time": "2023-06-23T15:22:31.278Z"
   },
   {
    "duration": 639,
    "start_time": "2023-06-23T15:27:08.149Z"
   },
   {
    "duration": 1514,
    "start_time": "2023-06-24T09:44:25.261Z"
   },
   {
    "duration": 2143,
    "start_time": "2023-06-24T09:44:26.778Z"
   },
   {
    "duration": 419,
    "start_time": "2023-06-24T09:44:28.923Z"
   },
   {
    "duration": 39,
    "start_time": "2023-06-24T09:44:29.343Z"
   },
   {
    "duration": 97,
    "start_time": "2023-06-24T09:44:29.385Z"
   },
   {
    "duration": 30,
    "start_time": "2023-06-24T09:44:29.484Z"
   },
   {
    "duration": 205,
    "start_time": "2023-06-24T09:44:29.517Z"
   },
   {
    "duration": 84,
    "start_time": "2023-06-24T09:44:29.724Z"
   },
   {
    "duration": 14,
    "start_time": "2023-06-24T09:44:29.810Z"
   },
   {
    "duration": 26,
    "start_time": "2023-06-24T09:44:29.826Z"
   },
   {
    "duration": 16,
    "start_time": "2023-06-24T09:44:29.854Z"
   },
   {
    "duration": 19,
    "start_time": "2023-06-24T09:44:29.871Z"
   },
   {
    "duration": 27,
    "start_time": "2023-06-24T09:44:29.892Z"
   },
   {
    "duration": 55,
    "start_time": "2023-06-24T09:44:29.923Z"
   },
   {
    "duration": 44,
    "start_time": "2023-06-24T09:44:29.981Z"
   },
   {
    "duration": 94,
    "start_time": "2023-06-24T09:44:30.028Z"
   },
   {
    "duration": 90,
    "start_time": "2023-06-24T09:44:30.124Z"
   },
   {
    "duration": 87,
    "start_time": "2023-06-24T09:44:30.217Z"
   },
   {
    "duration": 640,
    "start_time": "2023-06-24T09:44:30.306Z"
   },
   {
    "duration": 74,
    "start_time": "2023-06-24T09:44:30.949Z"
   },
   {
    "duration": 120,
    "start_time": "2023-06-24T09:44:31.025Z"
   },
   {
    "duration": 131,
    "start_time": "2023-06-24T09:44:31.147Z"
   },
   {
    "duration": 104,
    "start_time": "2023-06-24T09:44:31.279Z"
   },
   {
    "duration": 126,
    "start_time": "2023-06-24T09:44:31.385Z"
   },
   {
    "duration": 38,
    "start_time": "2023-06-24T09:44:31.513Z"
   },
   {
    "duration": 464,
    "start_time": "2023-06-24T09:44:31.552Z"
   },
   {
    "duration": 57,
    "start_time": "2023-06-24T09:44:32.019Z"
   },
   {
    "duration": 148,
    "start_time": "2023-06-24T09:44:32.080Z"
   },
   {
    "duration": 726,
    "start_time": "2023-06-24T09:44:32.231Z"
   },
   {
    "duration": 775,
    "start_time": "2023-06-24T09:44:32.960Z"
   },
   {
    "duration": 110,
    "start_time": "2023-06-24T09:44:39.695Z"
   },
   {
    "duration": 25,
    "start_time": "2023-06-24T09:45:05.088Z"
   },
   {
    "duration": 192,
    "start_time": "2023-06-24T09:46:15.899Z"
   },
   {
    "duration": 3069,
    "start_time": "2023-06-24T09:46:34.030Z"
   },
   {
    "duration": 1035,
    "start_time": "2023-06-24T09:49:14.214Z"
   },
   {
    "duration": 201,
    "start_time": "2023-06-24T09:49:22.818Z"
   },
   {
    "duration": 414,
    "start_time": "2023-06-24T09:50:58.513Z"
   },
   {
    "duration": 6,
    "start_time": "2023-06-24T09:52:09.517Z"
   },
   {
    "duration": 384,
    "start_time": "2023-06-24T09:52:13.003Z"
   },
   {
    "duration": 545,
    "start_time": "2023-06-24T09:53:03.598Z"
   },
   {
    "duration": 22,
    "start_time": "2023-06-24T09:53:44.519Z"
   },
   {
    "duration": 11,
    "start_time": "2023-06-24T10:04:31.404Z"
   },
   {
    "duration": 12,
    "start_time": "2023-06-24T10:05:50.480Z"
   },
   {
    "duration": 308,
    "start_time": "2023-06-24T10:06:03.145Z"
   },
   {
    "duration": 11,
    "start_time": "2023-06-24T10:16:56.387Z"
   },
   {
    "duration": 14,
    "start_time": "2023-06-24T10:18:04.156Z"
   },
   {
    "duration": 4,
    "start_time": "2023-06-24T10:18:13.337Z"
   },
   {
    "duration": 775,
    "start_time": "2023-06-24T10:18:13.344Z"
   },
   {
    "duration": 434,
    "start_time": "2023-06-24T10:18:14.121Z"
   },
   {
    "duration": 32,
    "start_time": "2023-06-24T10:18:14.557Z"
   },
   {
    "duration": 22,
    "start_time": "2023-06-24T10:18:14.592Z"
   },
   {
    "duration": 11,
    "start_time": "2023-06-24T10:18:14.616Z"
   },
   {
    "duration": 197,
    "start_time": "2023-06-24T10:18:14.629Z"
   },
   {
    "duration": 104,
    "start_time": "2023-06-24T10:18:14.828Z"
   },
   {
    "duration": 13,
    "start_time": "2023-06-24T10:18:14.934Z"
   },
   {
    "duration": 11,
    "start_time": "2023-06-24T10:18:14.966Z"
   },
   {
    "duration": 76,
    "start_time": "2023-06-24T10:18:14.980Z"
   },
   {
    "duration": 53,
    "start_time": "2023-06-24T10:18:15.059Z"
   },
   {
    "duration": 19,
    "start_time": "2023-06-24T10:18:15.115Z"
   },
   {
    "duration": 17,
    "start_time": "2023-06-24T10:18:15.142Z"
   },
   {
    "duration": 10,
    "start_time": "2023-06-24T10:18:15.161Z"
   },
   {
    "duration": 19,
    "start_time": "2023-06-24T10:18:15.173Z"
   },
   {
    "duration": 29,
    "start_time": "2023-06-24T10:18:15.194Z"
   },
   {
    "duration": 13,
    "start_time": "2023-06-24T10:18:15.226Z"
   },
   {
    "duration": 556,
    "start_time": "2023-06-24T10:18:15.241Z"
   },
   {
    "duration": 71,
    "start_time": "2023-06-24T10:18:15.799Z"
   },
   {
    "duration": 68,
    "start_time": "2023-06-24T10:18:15.872Z"
   },
   {
    "duration": 56,
    "start_time": "2023-06-24T10:18:15.942Z"
   },
   {
    "duration": 40,
    "start_time": "2023-06-24T10:18:16.000Z"
   },
   {
    "duration": 55,
    "start_time": "2023-06-24T10:18:16.042Z"
   },
   {
    "duration": 5,
    "start_time": "2023-06-24T10:18:16.100Z"
   },
   {
    "duration": 590,
    "start_time": "2023-06-24T10:18:16.107Z"
   },
   {
    "duration": 34,
    "start_time": "2023-06-24T10:18:16.699Z"
   },
   {
    "duration": 83,
    "start_time": "2023-06-24T10:18:16.735Z"
   },
   {
    "duration": 632,
    "start_time": "2023-06-24T10:18:16.820Z"
   },
   {
    "duration": 681,
    "start_time": "2023-06-24T10:18:17.455Z"
   },
   {
    "duration": 36,
    "start_time": "2023-06-24T10:18:18.139Z"
   },
   {
    "duration": 5,
    "start_time": "2023-06-24T10:18:18.177Z"
   },
   {
    "duration": 25,
    "start_time": "2023-06-24T10:18:18.183Z"
   },
   {
    "duration": 1654,
    "start_time": "2023-06-24T10:18:18.210Z"
   },
   {
    "duration": 934,
    "start_time": "2023-06-24T10:18:19.866Z"
   },
   {
    "duration": 1141,
    "start_time": "2023-06-24T10:18:24.598Z"
   },
   {
    "duration": 13,
    "start_time": "2023-06-24T10:19:48.145Z"
   },
   {
    "duration": 992,
    "start_time": "2023-06-24T10:20:07.336Z"
   },
   {
    "duration": 1086,
    "start_time": "2023-06-24T10:21:04.398Z"
   },
   {
    "duration": 12,
    "start_time": "2023-06-24T10:37:19.335Z"
   },
   {
    "duration": 43,
    "start_time": "2023-06-24T10:37:30.854Z"
   },
   {
    "duration": 4,
    "start_time": "2023-06-24T11:39:25.724Z"
   },
   {
    "duration": 656,
    "start_time": "2023-06-24T11:39:25.729Z"
   },
   {
    "duration": 354,
    "start_time": "2023-06-24T11:39:26.387Z"
   },
   {
    "duration": 38,
    "start_time": "2023-06-24T11:39:26.743Z"
   },
   {
    "duration": 17,
    "start_time": "2023-06-24T11:39:26.783Z"
   },
   {
    "duration": 4,
    "start_time": "2023-06-24T11:39:26.802Z"
   },
   {
    "duration": 180,
    "start_time": "2023-06-24T11:39:26.808Z"
   },
   {
    "duration": 83,
    "start_time": "2023-06-24T11:39:26.990Z"
   },
   {
    "duration": 10,
    "start_time": "2023-06-24T11:39:27.076Z"
   },
   {
    "duration": 9,
    "start_time": "2023-06-24T11:39:27.088Z"
   },
   {
    "duration": 7,
    "start_time": "2023-06-24T11:39:27.099Z"
   },
   {
    "duration": 8,
    "start_time": "2023-06-24T11:39:27.107Z"
   },
   {
    "duration": 12,
    "start_time": "2023-06-24T11:39:27.117Z"
   },
   {
    "duration": 15,
    "start_time": "2023-06-24T11:39:27.167Z"
   },
   {
    "duration": 8,
    "start_time": "2023-06-24T11:39:27.185Z"
   },
   {
    "duration": 13,
    "start_time": "2023-06-24T11:39:27.195Z"
   },
   {
    "duration": 11,
    "start_time": "2023-06-24T11:39:27.210Z"
   },
   {
    "duration": 12,
    "start_time": "2023-06-24T11:39:27.223Z"
   },
   {
    "duration": 516,
    "start_time": "2023-06-24T11:39:27.237Z"
   },
   {
    "duration": 196,
    "start_time": "2023-06-24T11:39:27.755Z"
   },
   {
    "duration": 76,
    "start_time": "2023-06-24T11:39:27.953Z"
   },
   {
    "duration": 51,
    "start_time": "2023-06-24T11:39:28.031Z"
   },
   {
    "duration": 40,
    "start_time": "2023-06-24T11:39:28.084Z"
   },
   {
    "duration": 76,
    "start_time": "2023-06-24T11:39:28.125Z"
   },
   {
    "duration": 5,
    "start_time": "2023-06-24T11:39:28.203Z"
   },
   {
    "duration": 464,
    "start_time": "2023-06-24T11:39:28.209Z"
   },
   {
    "duration": 44,
    "start_time": "2023-06-24T11:39:28.676Z"
   },
   {
    "duration": 112,
    "start_time": "2023-06-24T11:39:28.722Z"
   },
   {
    "duration": 637,
    "start_time": "2023-06-24T11:39:28.836Z"
   },
   {
    "duration": 683,
    "start_time": "2023-06-24T11:39:29.475Z"
   },
   {
    "duration": 26,
    "start_time": "2023-06-24T11:39:30.160Z"
   },
   {
    "duration": 8,
    "start_time": "2023-06-24T11:39:30.188Z"
   },
   {
    "duration": 29,
    "start_time": "2023-06-24T11:39:30.198Z"
   },
   {
    "duration": 1738,
    "start_time": "2023-06-24T11:39:30.230Z"
   },
   {
    "duration": 849,
    "start_time": "2023-06-24T11:39:31.971Z"
   },
   {
    "duration": 641,
    "start_time": "2023-06-24T11:39:32.822Z"
   },
   {
    "duration": 1015,
    "start_time": "2023-06-24T11:39:33.467Z"
   },
   {
    "duration": 1586,
    "start_time": "2023-06-24T11:39:34.485Z"
   },
   {
    "duration": 1025,
    "start_time": "2023-06-24T11:39:36.073Z"
   },
   {
    "duration": 1799,
    "start_time": "2023-06-24T11:39:37.100Z"
   },
   {
    "duration": 1873,
    "start_time": "2023-06-24T11:39:38.905Z"
   },
   {
    "duration": 2077,
    "start_time": "2023-06-24T11:39:40.781Z"
   },
   {
    "duration": 2575,
    "start_time": "2023-06-24T11:39:42.861Z"
   },
   {
    "duration": 38,
    "start_time": "2023-06-24T11:39:45.439Z"
   },
   {
    "duration": 1553,
    "start_time": "2023-06-24T11:39:45.478Z"
   },
   {
    "duration": 1807,
    "start_time": "2023-06-24T11:39:47.033Z"
   },
   {
    "duration": 2109,
    "start_time": "2023-06-24T11:39:48.842Z"
   },
   {
    "duration": 2103,
    "start_time": "2023-06-24T11:39:50.953Z"
   },
   {
    "duration": 23,
    "start_time": "2023-06-24T11:40:48.494Z"
   },
   {
    "duration": 1704,
    "start_time": "2023-06-24T11:42:26.697Z"
   },
   {
    "duration": 2074,
    "start_time": "2023-06-24T11:46:07.419Z"
   },
   {
    "duration": 2192,
    "start_time": "2023-06-24T12:16:28.672Z"
   },
   {
    "duration": 2167,
    "start_time": "2023-06-24T12:17:11.090Z"
   },
   {
    "duration": 3,
    "start_time": "2023-06-24T12:28:28.055Z"
   },
   {
    "duration": 694,
    "start_time": "2023-06-24T12:28:28.060Z"
   },
   {
    "duration": 389,
    "start_time": "2023-06-24T12:28:28.756Z"
   },
   {
    "duration": 33,
    "start_time": "2023-06-24T12:28:29.147Z"
   },
   {
    "duration": 16,
    "start_time": "2023-06-24T12:28:29.182Z"
   },
   {
    "duration": 10,
    "start_time": "2023-06-24T12:28:29.199Z"
   },
   {
    "duration": 178,
    "start_time": "2023-06-24T12:28:29.210Z"
   },
   {
    "duration": 81,
    "start_time": "2023-06-24T12:28:29.389Z"
   },
   {
    "duration": 11,
    "start_time": "2023-06-24T12:28:29.472Z"
   },
   {
    "duration": 8,
    "start_time": "2023-06-24T12:28:29.485Z"
   },
   {
    "duration": 8,
    "start_time": "2023-06-24T12:28:29.495Z"
   },
   {
    "duration": 22,
    "start_time": "2023-06-24T12:28:29.505Z"
   },
   {
    "duration": 13,
    "start_time": "2023-06-24T12:28:29.529Z"
   },
   {
    "duration": 30,
    "start_time": "2023-06-24T12:28:29.545Z"
   },
   {
    "duration": 24,
    "start_time": "2023-06-24T12:28:29.577Z"
   },
   {
    "duration": 11,
    "start_time": "2023-06-24T12:28:29.603Z"
   },
   {
    "duration": 11,
    "start_time": "2023-06-24T12:28:29.616Z"
   },
   {
    "duration": 17,
    "start_time": "2023-06-24T12:28:29.629Z"
   },
   {
    "duration": 493,
    "start_time": "2023-06-24T12:28:29.648Z"
   },
   {
    "duration": 74,
    "start_time": "2023-06-24T12:28:30.142Z"
   },
   {
    "duration": 269,
    "start_time": "2023-06-24T12:28:30.218Z"
   },
   {
    "duration": 65,
    "start_time": "2023-06-24T12:28:30.489Z"
   },
   {
    "duration": 354,
    "start_time": "2023-06-24T12:28:30.556Z"
   },
   {
    "duration": 165,
    "start_time": "2023-06-24T12:28:30.912Z"
   },
   {
    "duration": 19,
    "start_time": "2023-06-24T12:28:31.079Z"
   },
   {
    "duration": 484,
    "start_time": "2023-06-24T12:28:31.103Z"
   },
   {
    "duration": 33,
    "start_time": "2023-06-24T12:28:31.589Z"
   },
   {
    "duration": 135,
    "start_time": "2023-06-24T12:28:31.624Z"
   },
   {
    "duration": 653,
    "start_time": "2023-06-24T12:28:31.761Z"
   },
   {
    "duration": 678,
    "start_time": "2023-06-24T12:28:32.416Z"
   },
   {
    "duration": 23,
    "start_time": "2023-06-24T12:28:33.096Z"
   },
   {
    "duration": 12,
    "start_time": "2023-06-24T12:28:33.121Z"
   },
   {
    "duration": 47,
    "start_time": "2023-06-24T12:28:33.134Z"
   },
   {
    "duration": 1657,
    "start_time": "2023-06-24T12:28:33.183Z"
   },
   {
    "duration": 782,
    "start_time": "2023-06-24T12:28:34.842Z"
   },
   {
    "duration": 613,
    "start_time": "2023-06-24T12:28:35.626Z"
   },
   {
    "duration": 917,
    "start_time": "2023-06-24T12:28:36.241Z"
   },
   {
    "duration": 1389,
    "start_time": "2023-06-24T12:28:37.166Z"
   },
   {
    "duration": 927,
    "start_time": "2023-06-24T12:28:38.557Z"
   },
   {
    "duration": 1718,
    "start_time": "2023-06-24T12:28:39.486Z"
   },
   {
    "duration": 1991,
    "start_time": "2023-06-24T12:28:41.208Z"
   },
   {
    "duration": 2053,
    "start_time": "2023-06-24T12:28:43.201Z"
   },
   {
    "duration": 1906,
    "start_time": "2023-06-24T12:28:45.256Z"
   },
   {
    "duration": 2502,
    "start_time": "2023-06-24T12:28:47.167Z"
   },
   {
    "duration": 25,
    "start_time": "2023-06-24T12:28:49.671Z"
   },
   {
    "duration": 1327,
    "start_time": "2023-06-24T12:28:49.698Z"
   },
   {
    "duration": 2028,
    "start_time": "2023-06-24T12:28:51.028Z"
   },
   {
    "duration": 1776,
    "start_time": "2023-06-24T12:28:53.058Z"
   },
   {
    "duration": 2220,
    "start_time": "2023-06-24T12:28:54.837Z"
   },
   {
    "duration": 2080,
    "start_time": "2023-06-24T12:28:57.059Z"
   }
  ],
  "colab": {
   "provenance": []
  },
  "kernelspec": {
   "display_name": "Python 3 (ipykernel)",
   "language": "python",
   "name": "python3"
  },
  "language_info": {
   "codemirror_mode": {
    "name": "ipython",
    "version": 3
   },
   "file_extension": ".py",
   "mimetype": "text/x-python",
   "name": "python",
   "nbconvert_exporter": "python",
   "pygments_lexer": "ipython3",
   "version": "3.9.13"
  },
  "toc": {
   "base_numbering": 1,
   "nav_menu": {},
   "number_sections": true,
   "sideBar": true,
   "skip_h1_title": true,
   "title_cell": "Table of Contents",
   "title_sidebar": "Contents",
   "toc_cell": false,
   "toc_position": {},
   "toc_section_display": true,
   "toc_window_display": false
  }
 },
 "nbformat": 4,
 "nbformat_minor": 1
}
